{
 "cells": [
  {
   "cell_type": "markdown",
   "metadata": {},
   "source": [
    "## Week 5 Lecture 2 - MCMC\n",
    "\n",
    "McElreath's lecture for today: https://www.youtube.com/watch?v=Qqz5AJjyugM\n",
    "\n",
    "An R/Stan repo of code is available here: https://vincentarelbundock.github.io/rethinking2/\n",
    "\n",
    "An excellent port to Python/PyMC Code is available here: https://github.com/dustinstansbury/statistical-rethinking-2023\n",
    "\n",
    "You are encouraged to work through both of these versions to re-enforce what we're doing in class."
   ]
  },
  {
   "cell_type": "code",
   "execution_count": 1,
   "metadata": {},
   "outputs": [],
   "source": [
    "# Import python packages\n",
    "%matplotlib inline\n",
    "import pandas as pd\n",
    "import numpy as np\n",
    "import seaborn as sns\n",
    "import scipy as sp \n",
    "import random as rd\n",
    "import pdb\n",
    "import pymc as pm\n",
    "import arviz as az\n",
    "from matplotlib import pyplot as plt\n",
    "\n",
    "\n",
    "# Helper functions\n",
    "def stdize(x):\n",
    "    return (x-np.mean(x))/np.std(x)\n",
    "\n",
    "\n",
    "def indexall(L):\n",
    "    poo = []\n",
    "    for p in L:\n",
    "        if not p in poo:\n",
    "            poo.append(p)\n",
    "    Ix = np.array([poo.index(p) for p in L])\n",
    "    return poo,Ix"
   ]
  },
  {
   "cell_type": "markdown",
   "metadata": {},
   "source": [
    "## Markov Chains\n",
    "\n",
    "The miracle of modern computation is that it has made practical the use of Markov chain Monte Carlo (MCMC) for numerical approximation of all the various derivatives inherent in calculating the posterior of a Bayesian statistical model. What is remarkable is how simple the most basic algorithm is: the Metropolis algorithm. \n",
    "\n",
    "![](maniac.jpg)\n",
    "\n",
    "[Nicholas Metropolis](https://en.wikipedia.org/wiki/Nicholas_Metropolis) was a remarkable physicist on the Manhattan Project who worked out the compression and ingnition of materials within the first atomic bomb. In fact, a deep irony of Bayesian statistics, now used to help heal the world through fields such as medicine and conservation, [owes it's widespread use to the most destructive project of all time](http://library.lanl.gov/cgi-bin/getfile?07-15.pdf). You can listen to an interview with him at the [Voices of the Manhattan Project](https://www.manhattanprojectvoices.org/oral-histories/nicholas-metropolis-interview) archive. Metropolis also set up a joke at the start of the Woody Allen film [Husbands and Wives](https://www.youtube.com/watch?v=_ojZxFjlFV0).\n",
    "\n",
    "The Metropolis algorithm was published in a 1953 article [Equation of State Calculations by Fast Computing Machines](https://people.umass.edu/bvs/The_1953_paper.pdf) that set out to understand the physical properties of fluids. So what did Metropolis do? Well he developed the MANIAC computer where the calculations were done and, along with two wife-husband teams, Arianna & Marshall Rosenbluth, and Augusta & Edward Teller he developed an algothrim that cracked the code on modern Bayesian implementation. Rumor has it that the Rosenbluth's actually did the idea and implementation (the heavy lifting), while Metropolis just stuck his name out front (jerk move). Whatever happened, a good MCMC algorithm is required to do one thing, namely to **explore the parameter space in proportion to it's posterior probability**. That's it. But doing so requires two key things, (1) **proposal** system and (2) some criteria for **acceptance**. \n",
    "\n",
    "The algorithm from the 1953 paper used the following equation to set out a proposed move from a current value ($x_{1}$) to ($x_{2}$):\n",
    "\n",
    "$$\n",
    "x_{1}\\rightarrow x_{1}+\\alpha \\xi_{1}\n",
    "$$\n",
    "\n",
    "with $\\alpha$ being a maximum displacement allowed at each step and $\\xi_{1}$ being a random number between -1 and 1 (which is symmetric). They generated random numbers on [MANIAC I](https://en.wikipedia.org/wiki/MANIAC_I), using the [middle square method](https://en.wikipedia.org/wiki/Middle-square_method). You can read the complete computer manual here: http://www.bitsavers.org/pdf/lanl/LA-1725_The_MANIAC_Jul54.pdf, with the random number generator on p240. (Incidentally, [uniform distributions](https://en.wikipedia.org/wiki/Uniform_distribution_(continuous)) are the basis of a key form of random number generation for any probabilty distribution, [rejection sampling](https://en.wikipedia.org/wiki/Rejection_sampling)).\n",
    "\n",
    "Let's follow along at home, using our built-in uniform random number generator:"
   ]
  },
  {
   "cell_type": "code",
   "execution_count": null,
   "metadata": {},
   "outputs": [],
   "source": [
    "# Initial value\n",
    "x1 = 5\n",
    "\n",
    "# Arbitrary maximum distance\n",
    "α = 15\n",
    "\n",
    "# Initial proposal\n",
    "x2p = x1+α*np.random.uniform(-1,1)\n",
    "x2p"
   ]
  },
  {
   "cell_type": "markdown",
   "metadata": {},
   "source": [
    "The next step connects us back to Shannon and entropy, whereby the energy of the system is used as a basis acceptance for the new value $x_2$. In Metropolis *et al.* (1953) they calculated the potential energy of their system of fluids according to \n",
    "\n",
    "$$\n",
    "E = \\frac{1}{2}\\sum^{N}_{i=1}\\sum^{N}_{j=1}V(d_{ij}) \\enspace for \\enspace i\\neq j\n",
    "$$\n",
    "\n",
    "which accounts for the relative positions of particles in a field according to the energy potential between molecules (V) and the distance between them $d_{ij}$. In our calculation we need some way to calculate the 'potential energy' of our initial value $x_1$ and our new value $x_2$. Because we don't have particles with an energy calculation to minimize, let's assert that what we're trying to estimate is equal to $\\pi=3.14159$. So we can now use our algorithm to determine if our $x_2$ proposal is further or closer to $\\pi$ than our curent $x_1$ value - in other words we can minimize to get some directionality going. In our case, we can use\n",
    "\n",
    "$$\n",
    "E_i = |\\pi-x_i|\n",
    "$$\n",
    "\n",
    "to get our 'energies' for each value:"
   ]
  },
  {
   "cell_type": "code",
   "execution_count": null,
   "metadata": {},
   "outputs": [],
   "source": [
    "# Energy for x1\n",
    "x1pe = abs(np.pi-x1)\n",
    "x1pe"
   ]
  },
  {
   "cell_type": "code",
   "execution_count": null,
   "metadata": {},
   "outputs": [],
   "source": [
    "# Energy for x2\n",
    "x2pe = abs(np.pi-x2p)\n",
    "x2pe"
   ]
  },
  {
   "cell_type": "markdown",
   "metadata": {},
   "source": [
    "With the energies in hand, Metropolis *et al.* then calculated the net energy change in the system $\\Delta E$ and applied the following acceptance criteria:\n",
    "\n",
    "1. if $\\Delta E$<0, accept $x_2$\n",
    "2. otherwise accept $x_2$ with probability $e^{-\\Delta E/kT}$\n",
    "    \n",
    "where $k$ is the [Boltzman constant](https://en.wikipedia.org/wiki/Boltzmann_constant) and T is temperature. In our case we can assume k and T are constant. So implementing this "
   ]
  },
  {
   "cell_type": "code",
   "execution_count": null,
   "metadata": {},
   "outputs": [],
   "source": [
    "# Delta energy\n",
    "ΔE = x2pe-x1pe\n",
    "ΔE"
   ]
  },
  {
   "cell_type": "markdown",
   "metadata": {},
   "source": [
    "And we can apply the acceptance criteria, using"
   ]
  },
  {
   "cell_type": "code",
   "execution_count": null,
   "metadata": {},
   "outputs": [],
   "source": [
    "if (ΔE<0):\n",
    "    p_accept = 1\n",
    "else:\n",
    "    p_accept = np.exp(-ΔE)\n",
    "p_accept"
   ]
  },
  {
   "cell_type": "markdown",
   "metadata": {},
   "source": [
    "And then take a Bernoulli sample to either accept or reject $x_2$"
   ]
  },
  {
   "cell_type": "code",
   "execution_count": null,
   "metadata": {},
   "outputs": [],
   "source": [
    "x2 = np.random.binomial(1, p_accept)\n",
    "x2 "
   ]
  },
  {
   "cell_type": "markdown",
   "metadata": {},
   "source": [
    "Putting this all together into an algorithmic scheme, we can create our markov chain-based Metropolis algorithm for, say, 1000 samples:"
   ]
  },
  {
   "cell_type": "code",
   "execution_count": null,
   "metadata": {},
   "outputs": [],
   "source": [
    "# Initial value\n",
    "x = [5]\n",
    "# Arbitrary maximum distance\n",
    "α = 15\n",
    "\n",
    "for i in range(0,10000):\n",
    "    # Proposal\n",
    "    proposal = x[i-1]+α*np.random.uniform(-1,1)\n",
    "    # Change in energy\n",
    "    ΔE = abs(np.pi-proposal)-abs(np.pi-x[i-1])\n",
    "    # Acceptance algorithm\n",
    "    if (ΔE<0):\n",
    "        p_accept = 1\n",
    "    else:\n",
    "        p_accept = np.exp(-ΔE)\n",
    "    accept = np.random.binomial(1, p_accept)\n",
    "    # Markov step i\n",
    "    x += [x[i-1]*(1-accept)+proposal*accept]"
   ]
  },
  {
   "cell_type": "code",
   "execution_count": null,
   "metadata": {},
   "outputs": [],
   "source": [
    "plt.plot(x)\n",
    "plt.title('Your first wiggly caterpillar')\n",
    "plt.savefig('wiggly.jpg', dpi=300);"
   ]
  },
  {
   "cell_type": "code",
   "execution_count": null,
   "metadata": {},
   "outputs": [],
   "source": [
    "az.plot_density(np.array(x))\n",
    "plt.axvline(np.pi)\n",
    "plt.savefig('mcmcpi.jpg', dpi=300);"
   ]
  },
  {
   "cell_type": "markdown",
   "metadata": {},
   "source": [
    "That this works, is completely insane. I'm in continual disbelief that it does. Nontheless..."
   ]
  },
  {
   "cell_type": "markdown",
   "metadata": {},
   "source": [
    "# Why MCMC?\n",
    "\n",
    "Many (most) times, you can't integrate analytically (do math) so we need to solve these things numerically, through simulation. This includes hierarhical models, phylogentic analysis, and spatial models for example. In a huge range of  cases optimization fails and in a big range of cases approximations (e.g. Laplace) fail too. \n",
    "\n",
    "## MCMC algorithms in history\n",
    "\n",
    "- Metropolis (1953) - [Equation of State Calculations by Fast Computing Machines](https://aip.scitation.org/doi/10.1063/1.1699114)\n",
    "- Metropolis-Hastings (1970) - [Monte Carlo Sampling Methods Using Markov Chains and Their Applications ](https://www.jstor.org/stable/2334940?seq=1)\n",
    "- Gibbs sampling (1984) - [Stochastic Relaxation, Gibbs Distributions, and the Bayesian Restoration of Images](https://ieeexplore.ieee.org/document/4767596)\n",
    "- Hamiltonian Monte Carlo (1987) - [Hybrid Monte Carlo](https://www.sciencedirect.com/science/article/abs/pii/037026938791197X)\n",
    "\n",
    "The first three are 'quess and check' methods (propose=guess, accept=check); everyting in the future lies in gradients.\n",
    "\n",
    "Take a look at each of these algorithms (and more) in practice, here: http://chi-feng.github.io/mcmc-demo/"
   ]
  },
  {
   "cell_type": "markdown",
   "metadata": {},
   "source": [
    "# Hamiltonian Monte Carlo\n",
    "\n",
    "Ok, so we've been told the future is in gradients - what the heck are those? Gradients are the derivatives (or slopes) for all dimensions of a problem. If you have a normal posterior this gives us the steepness of the slope at some combination of $\\mu$ and $\\sigma$, conditional on the data. So let's do this for the example outlines from p273 to 278 un the book; the first is to simulate some data, which I'll do from $x_i \\sim N(2.3,1)$ and  $y_i \\sim N(-1.7,1)$:\n"
   ]
  },
  {
   "cell_type": "code",
   "execution_count": null,
   "metadata": {},
   "outputs": [],
   "source": [
    "# Number of samples\n",
    "nsamp = 100\n",
    "\n",
    "# Simulate x\n",
    "xtrue = 2.3\n",
    "x = np.random.normal(xtrue,1,nsamp)\n",
    "# Simulate y\n",
    "ytrue = -1.7\n",
    "y = np.random.normal(ytrue,1,nsamp)\n",
    "\n",
    "# Plot 'em\n",
    "plt.scatter(x,y)\n",
    "plt.xlabel('N(2.3,1)', fontsize=15)\n",
    "plt.ylabel('N(-1.7,1)', fontsize=15)\n",
    "plt.savefig('rando.jpg', dpi=300);"
   ]
  },
  {
   "cell_type": "markdown",
   "metadata": {},
   "source": [
    "The next step is outline our statistical model:\n",
    "\n",
    "$$\n",
    "x_i \\sim N(\\mu_x,1)\\\\\n",
    "y_i \\sim N(\\mu_y,1)\\\\\n",
    "\\mu_x \\sim N(0,0.5)\\\\\n",
    "\\mu_y \\sim N(0,0.5)\n",
    "$$\n",
    "\n",
    "which is just describing normal distributions for x and y respectively. To do HMC we need to get a few things in order, namely:\n",
    "\n",
    "1. The log-probability of the data and parameters\n",
    "2. The gradient\n",
    "3. Number of leapfrog steps\n",
    "4. Step size\n",
    "\n",
    "\n",
    "First the **log-probability of the data and parameters**, which we've seen before, this time can be written as:\n",
    "\n",
    "$$\n",
    "\\sum_{i}log p(x_i|\\mu_x,1)+\\sum_{i}log p(y_i|\\mu_y,1)+log p(\\mu_x|0,0.5)+log p(\\mu_y|0,0.5)\n",
    "$$\n",
    "\n",
    "These are the log-probabilities for each of the shorhand notations of our model above, with the first two terms being the data likelihoods for $x$ and $y$ and the second two terms being their priors. Note that the sigmas in the data likelihood are fixed at 1 to make this all a bit simpler. So let's calculate this first thing:"
   ]
  },
  {
   "cell_type": "code",
   "execution_count": null,
   "metadata": {},
   "outputs": [],
   "source": [
    "# log-probability of the data, model, and priors at the initial values\n",
    "sum(sp.stats.norm.logpdf(x,0,1))+sum(sp.stats.norm.logpdf(y,0,1))+sp.stats.norm.logpdf(0,0,0.5)+sp.stats.norm.logpdf(0,0,0.5)"
   ]
  },
  {
   "cell_type": "markdown",
   "metadata": {},
   "source": [
    "So given our prior means of zero, the log-probability is that. But we need to be able to do this algorithmically, calculating this same thing at each step in our sampler. To do this we write a function"
   ]
  },
  {
   "cell_type": "code",
   "execution_count": null,
   "metadata": {},
   "outputs": [],
   "source": [
    "# log-probability function\n",
    "def lp(x,y,mu,a=0,b=0.5,k=0,d=.5):\n",
    "    return -(sum(sp.stats.norm.logpdf(x,mu[1],1))+sum(sp.stats.norm.logpdf(y,mu[0],1))+sp.stats.norm.logpdf(mu[1],k,d)+sp.stats.norm.logpdf(mu[0],a,b))"
   ]
  },
  {
   "cell_type": "markdown",
   "metadata": {},
   "source": [
    "The second bit is the **gradient**, meaning the partial derivatives to get at the slopes. By design we're using Normal didstributions because Normals are easy to work with. The derivative of the logarithm for $N(\\mu,\\sigma)$ with respect to $\\mu$ is\n",
    "\n",
    "$$\n",
    "\\frac{\\delta log N(x|\\mu,\\sigma)}{\\delta \\mu} = \\frac{x-\\mu^2}{\\sigma^2}\n",
    "$$\n",
    "\n",
    "And because the derivative of a sum is a sum of derivatives, we can get the derivative for the prior and likelihood for the x data in our model given\n",
    "\n",
    "$$\n",
    "\\frac{\\delta log N(x|\\mu_x,\\sigma)}{\\delta \\mu_x}+\\frac{\\delta log N(\\mu_x|0,0.5)}{\\delta x} = \\sum_{i}\\frac{x_i-\\mu_x}{1^2}+\\frac{0-\\mu_x}{0.5^2}\n",
    "$$\n",
    "\n",
    "and for y, given\n",
    "$$\n",
    "\\frac{\\delta log N(y|\\mu_y,\\sigma)}{\\delta \\mu_y}+\\frac{\\delta log N(\\mu_y|0,0.5)}{\\delta y} = \\sum_{i}\\frac{y_i-\\mu_y}{1^2}+\\frac{0-\\mu_y}{0.5^2}\n",
    "$$\n",
    "\n",
    "To program this, we need another function"
   ]
  },
  {
   "cell_type": "code",
   "execution_count": null,
   "metadata": {},
   "outputs": [],
   "source": [
    "# Gradient function\n",
    "def lpg(x,y,mu,a=0,b=0.5,k=0,d=0.5):\n",
    "    G1 = sum(y-mu[0])+(a-mu[0])/(b**2)\n",
    "    G2 = sum(x-mu[1])+(k-mu[1])/(d**2)\n",
    "    # Return gradients as negative because energy is negative log-probability\n",
    "    return np.array([-G1, -G2])"
   ]
  },
  {
   "cell_type": "markdown",
   "metadata": {},
   "source": [
    "The number of **leapfrog steps** ($L$) asks how many points we want to sample along the trajectory of our likelihood and the **step size** ($s$) determines how big each of those *L* steps should be. In practice these things are chosen for us, but for the sake of this example, we'll use 11 leapfrog steps ($L=11$), with a step size of 0.03 ($s=0.03$). \n",
    "\n",
    "Ok with all these things in place, we can build our Hamiltonian algorithm. First the Hamiltoninan function for setting things in motion"
   ]
  },
  {
   "cell_type": "code",
   "execution_count": null,
   "metadata": {},
   "outputs": [],
   "source": [
    "def HMC(lp, lpg, current_q, x, y, s=0.03, L=11):\n",
    "    # Store current parameters\n",
    "    q = current_q\n",
    "    # Random flick on momentum from N(0,1)\n",
    "    p = np.random.normal(0,1,len(q))\n",
    "    # Store current momentum\n",
    "    current_p = p\n",
    "    # Make a half-step for momentum p\n",
    "    p = p-s*lpg(x, y, q)/2\n",
    "    # Create output matrix for parameter trajectory\n",
    "    qtraj = np.ones((L+1,len(q)))*-999\n",
    "    # Empty matrix for momentum\n",
    "    ptraj = np.ones((L+1,len(q)))*-999\n",
    "    # Append initial values\n",
    "    qtraj[0,] = current_q\n",
    "    ptraj[0,] = p\n",
    "    \n",
    "    # Alternate full steps for position and momentum\n",
    "    for i in range(L):\n",
    "        # move position (parameters) by step size x current gradient\n",
    "        q = q+s*p\n",
    "        # Make a full step for momentum unless at last leapfrog step\n",
    "        if i!=(L-1):\n",
    "            p = p - s*lpg(x, y, q)\n",
    "            # Append new momentum\n",
    "            ptraj[i+1,] = p\n",
    "        # Append new position\n",
    "        qtraj[i+1,] = q\n",
    "    \n",
    "    # Make a half step for momentum at the end\n",
    "    p = p - s*lpg(x, y, q)/2\n",
    "    ptraj[L,] = p\n",
    "    \n",
    "    # Negate momentum at the end of the trajectory to make the proposal symmetric\n",
    "    p = -p\n",
    "    \n",
    "    # Evaluate potential and kinetic energies at the start of trajectory\n",
    "    current_lp = lp(x, y, current_q)\n",
    "    current_K = sum(current_p**2)/2\n",
    "    # Total inital energy\n",
    "    H0 = current_lp+current_K\n",
    "    \n",
    "    # Evaluate potential and kinetic energies at the end of trajectory\n",
    "    proposed_lp = lp(x, y, q)\n",
    "    proposed_K = sum(p**2)/2\n",
    "    # Total proposed energy\n",
    "    H1 = proposed_lp+proposed_K\n",
    "\n",
    "    # Accept or reject end state\n",
    "    accept = 0\n",
    "    if np.random.uniform(0,1)<np.exp(current_lp-proposed_lp+current_K-proposed_K):\n",
    "        new_q = q\n",
    "        accept = 1\n",
    "    else:\n",
    "        new_q = current_q\n",
    "    \n",
    "    return new_q, qtraj, ptraj, accept, H1-H0\n",
    "    "
   ]
  },
  {
   "cell_type": "markdown",
   "metadata": {},
   "source": [
    "This HMC function does one Hamiltonian step - to build up a posteior we need to make a Markov chain to store and access the trace over, say, 1000 samples. We can do that here:"
   ]
  },
  {
   "cell_type": "code",
   "execution_count": null,
   "metadata": {},
   "outputs": [],
   "source": [
    "# Number of samples\n",
    "nsamps = 1000\n",
    "# Empty matrix to hold traces\n",
    "trace = np.ones((nsamps+1,2))*-999\n",
    "# Initialize\n",
    "trace[0,] = np.array([0.08319271, -0.08801522])\n",
    "# Iterate\n",
    "for i in range(nsamps):\n",
    "    trace[i+1,] = HMC(lp, lpg, trace[i], x, y)[0]\n"
   ]
  },
  {
   "cell_type": "code",
   "execution_count": null,
   "metadata": {},
   "outputs": [],
   "source": [
    "_, ax = plt.subplots(1,2, figsize=(10,4))\n",
    "\n",
    "az.plot_density(trace.T[0],ax=ax[0])\n",
    "m50 = np.median(trace.T[0])\n",
    "ax[0].axvline(ytrue,c='red')\n",
    "ax[0].set_title('μ_y='+str(ytrue))\n",
    "\n",
    "ax[1].plot(trace.T[0])\n",
    "plt.savefig('hmcy.jpg', dpi=300);"
   ]
  },
  {
   "cell_type": "code",
   "execution_count": null,
   "metadata": {},
   "outputs": [],
   "source": [
    "_, ax = plt.subplots(1,2, figsize=(10,4))\n",
    "\n",
    "az.plot_density(trace.T[1],ax=ax[0])\n",
    "m50 = np.median(trace.T[1])\n",
    "ax[0].axvline(xtrue,c='red')\n",
    "ax[0].set_title('μ_x='+str(xtrue))\n",
    "\n",
    "ax[1].plot(trace.T[1])\n",
    "plt.savefig('hmcx.jpg', dpi=300);"
   ]
  },
  {
   "cell_type": "markdown",
   "metadata": {},
   "source": [
    "So not too bad - it's worth playing with this code to see how things change with changing the leapfrog and step sizes."
   ]
  }
 ],
 "metadata": {
  "kernelspec": {
   "display_name": "Python 3 (ipykernel)",
   "language": "python",
   "name": "python3"
  },
  "language_info": {
   "codemirror_mode": {
    "name": "ipython",
    "version": 3
   },
   "file_extension": ".py",
   "mimetype": "text/x-python",
   "name": "python",
   "nbconvert_exporter": "python",
   "pygments_lexer": "ipython3",
   "version": "3.11.6"
  }
 },
 "nbformat": 4,
 "nbformat_minor": 4
}
