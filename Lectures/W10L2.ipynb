{
 "cells": [
  {
   "cell_type": "markdown",
   "metadata": {},
   "source": [
    "## Week 10 Lecture 2 - Social Networks\n",
    "\n",
    "McElreath's lectures for today: https://www.youtube.com/watch?v=L_QumFUv7C8&list=PLDcUM9US4XdMROZ57-OIRtIK0aOynbgZN&index=16\n",
    "\n",
    "McElreath's lectures for the whole book are available here: https://github.com/rmcelreath/stat_rethinking_2022\n",
    "\n",
    "An R/Stan repo of code is available here: https://vincentarelbundock.github.io/rethinking2/\n",
    "\n",
    "Dustin Stansbury has some lovely PyMC Code available here: https://github.com/dustinstansbury/statistical-rethinking-2023\n",
    "\n",
    "You are encouraged to work through both of these versions to re-enforce what we're doing in class."
   ]
  },
  {
   "cell_type": "code",
   "execution_count": null,
   "metadata": {},
   "outputs": [],
   "source": [
    "# Import python packages\n",
    "%matplotlib inline\n",
    "import pandas as pd\n",
    "import numpy as np\n",
    "import seaborn as sns\n",
    "import scipy as sp \n",
    "import random as rd\n",
    "import pdb\n",
    "import pymc as pm\n",
    "import arviz as az\n",
    "import networkx as nx\n",
    "from matplotlib import pyplot as plt\n",
    "import dataframe_image as dfi\n",
    "from matplotlib.patches import Ellipse, transforms\n",
    "\n",
    "\n",
    "# Helper functions\n",
    "def stdize(x):\n",
    "    return (x-np.mean(x))/np.std(x)\n",
    "\n",
    "\n",
    "def indexall(L):\n",
    "    poo = []\n",
    "    for p in L:\n",
    "        if not p in poo:\n",
    "            poo.append(p)\n",
    "    Ix = np.array([poo.index(p) for p in L])\n",
    "    return poo,Ix\n",
    "\n",
    "def logit(p):\n",
    "    return np.log(p) - np.log(1 - p)\n",
    "\n",
    "def invlogit(p):\n",
    "    return np.exp(p) / (1 + np.exp(p))\n",
    "\n",
    "\n",
    "from matplotlib.patches import Ellipse\n",
    "from scipy.stats import chi2\n",
    "\n",
    "\n",
    "def Gauss2d(mu, cov, ci, ax=None, ec='k'):\n",
    "    \"\"\"Copied from statsmodel\"\"\"\n",
    "    if ax is None:\n",
    "        _, ax = plt.subplots(figsize=(6, 6))\n",
    "\n",
    "    v_, w = np.linalg.eigh(cov)\n",
    "    u = w[0] / np.linalg.norm(w[0])\n",
    "    angle = np.arctan(u[1]/u[0])\n",
    "    angle = 180 * angle / np.pi # convert to degrees\n",
    "\n",
    "    for level in ci:\n",
    "        v = 2 * np.sqrt(v_ * chi2.ppf(level, 2)) #get size corresponding to level\n",
    "        ell = Ellipse(mu[:2], v[0], v[1], 180 + angle, facecolor='None',\n",
    "                      edgecolor=ec,\n",
    "                      alpha=(1-level)*.5,\n",
    "                      lw=1.5)\n",
    "        ell.set_clip_box(ax.bbox)\n",
    "        ell.set_alpha(0.5)\n",
    "        ax.add_artist(ell)\n",
    "    \n",
    "    return ax"
   ]
  },
  {
   "cell_type": "markdown",
   "metadata": {},
   "source": [
    "# Social Networks\n",
    "\n",
    "## Social relations as correlated varying effects\n",
    "\n",
    "The data for this example consist of pairs of households (dyads) in Nicaragua, the publicaiton of which you can find in the original paper, [Koester and Leckie 2014](https://www.researchgate.net/profile/Jeremy_Koster/publication/261764179_Food_sharing_networks_in_lowland_Nicaragua_An_application_of_the_social_relations_model_to_count_data/links/5c413437299bf12be3d04539/Food-sharing-networks-in-lowland-Nicaragua-An-application-of-the-social-relations-model-to-count-data.pdf). In short, the model estimates gift giving between pairs of households ('dyads': in sociology ['a group of two people'](https://en.wikipedia.org/wiki/Dyad_(sociology))). Let's import the data and see what it looks like\n",
    "\n",
    "\n"
   ]
  },
  {
   "cell_type": "code",
   "execution_count": null,
   "metadata": {},
   "outputs": [],
   "source": [
    "kdata = pd.read_csv('kl_dyads.csv')\n",
    "dfi.export(kdata.head(10), 'kl_dyads.jpg')\n",
    "kdata.head()"
   ]
  },
  {
   "cell_type": "code",
   "execution_count": null,
   "metadata": {},
   "outputs": [],
   "source": [
    "plt.scatter(kdata.giftsAB, kdata.giftsBA)\n",
    "plt.axline((0,0),(max(kdata.giftsBA),max(kdata.giftsBA)),linestyle=\":\",linewidth=3,c='black',zorder=0)\n",
    "plt.savefig('gifts.jpg',dpi=300);"
   ]
  },
  {
   "cell_type": "markdown",
   "metadata": {},
   "source": [
    "Basically households (`hidA` and `hidB`) trade with each other unequally (`giftsAB` and `giftsBA`) in a series of recorded exchanges between pairs (`did`). The question here is how does gift giving vary among households and among dyad pairs?"
   ]
  },
  {
   "cell_type": "code",
   "execution_count": null,
   "metadata": {},
   "outputs": [],
   "source": [
    "# Number of observations\n",
    "N = len(kdata)\n",
    "\n",
    "# Number of households\n",
    "N_households = max(kdata.hidB)\n",
    "\n",
    "# Dyad ID\n",
    "did = kdata.did.values-1\n",
    "# A households - note A and B have no meaning\n",
    "hidA = kdata.hidA.values-1\n",
    "# B households\n",
    "hidB = kdata.hidB.values-1\n",
    "# Household labels\n",
    "HH = ['HH_'+x for x in np.sort(np.unique(np.append(hidA,hidB))).astype(str)]\n",
    "\n",
    "# Gifts from A to B\n",
    "giftsAB = kdata.giftsAB\n",
    "# Gifts from B to A\n",
    "giftsBA = kdata.giftsBA"
   ]
  },
  {
   "cell_type": "markdown",
   "metadata": {},
   "source": [
    "# Dyads basic model\n",
    "\n",
    "The question here is to estiamte average giving and receiving rates for Nicaraguan households, as well as rates for particular pairs (dyads) of households. Because gifts from household A to B hold no priority over gifts from B to A, a model that does not depend on direction is required. However there are directions involved, in that a gift from A to B has a direction and is equivalent to a reception from B to A. This implies two key observation-level models:\n",
    "\n",
    "$$\n",
    "\\begin{align}\n",
    "y_{A\\rightarrow B} \\sim & Poisson(\\lambda_{AB}) \\\\\n",
    "log(\\lambda_{AB}) = & \\alpha + g_{A} + r_{B} + d_{AB}\n",
    "\\end{align}\n",
    "$$\n",
    "\n",
    "And conversely\n",
    "\n",
    "$$\n",
    "\\begin{align}\n",
    "y_{B\\rightarrow A} \\sim & Poisson(\\lambda_{BA}) \\\\\n",
    "log(\\lambda_{BA}) = & \\alpha + g_{B} + r_{A} + d_{BA}\n",
    "\\end{align}\n",
    "$$\n",
    "\n",
    "where $\\alpha$ represents an average rate of giving; $g_{A}$ represents the average rate of giving from household A, $r_{B}$ represents the average rate of receiving for household B, and $d_{AB}$ is the dyad-specific giving rate from A to B. Doing this implies that each household H needs varying effects for giving $g_{H}$ and receiving $r_{H}$. On top of this each dyad has their own specific $d_{AB}$ and $d_{BA}$ effects. One goal here is to see if the $g$ and $r$ paremters are correlated - go givers get a lot in return? In addition, we're interested in knowing if there are asymetries in gifts within each dyad - is there a gift balance or not for each pair? These are handled with a couple of multi-normal priors. The first deals with the household effects:\n",
    "\n",
    "$$\n",
    "\\begin{pmatrix} g_{i} \\\\ r_{i} \\end{pmatrix} \\sim MvN \\left( \\begin{pmatrix} 0 \\\\ 0 \\end{pmatrix}, \\begin{pmatrix} \\sigma_{g}^2 & \\sigma_{g}\\sigma_{r}\\rho_{gr} \\\\ \\sigma_{g}\\sigma_{r}\\rho_{gr} & \\sigma_{r}^2 \\end{pmatrix} \\right).\n",
    "$$\n",
    "\n",
    "The second, deals with the dyad effects:\n",
    "\n",
    "$$\n",
    "\\begin{pmatrix} d_{ij} \\\\ d_{ji} \\end{pmatrix} \\sim MvN \\left( \\begin{pmatrix} 0 \\\\ 0 \\end{pmatrix}, \\begin{pmatrix} \\sigma_{d}^2 & \\sigma_{d}^2\\rho_{d} \\\\ \\sigma_{d}^2\\rho_{d} & \\sigma_{d}^2 \\end{pmatrix} \\right).\n",
    "$$\n",
    "\n",
    "It's important to note that the standard deviation $\\sigma_{d}$ is common for both terms because the direction (i or j) doesn't matter. And $\\rho_{d}$ tells us if there is an asymetry ($\\rho_{d}$ negative) or not ($\\rho_{d}$ positive). \n",
    "\n",
    "We can implement this in pymc as:"
   ]
  },
  {
   "cell_type": "code",
   "execution_count": null,
   "metadata": {},
   "outputs": [],
   "source": [
    "with pm.Model(coords={\"Rate\": [\"giving\", \"receiving\"], \"HouseH\":HH}) as Dyads:\n",
    "    # gr matrix of varying effects per household\n",
    "    sd_dist = pm.Exponential.dist(1.0)\n",
    "    chol_gr, _, _ = pm.LKJCholeskyCov(\"chol_gr\", n=2, eta=4, sd_dist=sd_dist, compute_corr=True)\n",
    "    gr = pm.MvNormal(\"gr\", mu=0, chol=chol_gr, shape=(N_households, 2), dims=('HouseH','Rate'))\n",
    "\n",
    "    # dyad effects\n",
    "    chol_dyad, _, _ = pm.LKJCholeskyCov(\"chol_dyad\", n=2, eta=8, sd_dist=sd_dist, compute_corr=True)\n",
    "    z = pm.Normal(\"z\", 0, 1, shape=(2, N))\n",
    "    d = pm.Deterministic(\"d\", pm.math.dot(chol_dyad, z).T)\n",
    "\n",
    "    # linear models\n",
    "    a = pm.Normal(\"a\", 0, 1)\n",
    "    lambdaAB = pm.math.exp(a + gr[hidA, 0] + gr[hidB, 1] + d[did, 0])\n",
    "    lambdaBA = pm.math.exp(a + gr[hidB, 0] + gr[hidA, 1] + d[did, 1])\n",
    "\n",
    "    # likelihood\n",
    "    YAB_ = pm.Poisson(\"giftsAB\", lambdaAB, observed=giftsAB)\n",
    "    YBA = pm.Poisson(\"giftsBA\", lambdaBA, observed=giftsBA)"
   ]
  },
  {
   "cell_type": "code",
   "execution_count": null,
   "metadata": {},
   "outputs": [],
   "source": [
    "with Dyads:\n",
    "    trace = pm.sample()"
   ]
  },
  {
   "cell_type": "code",
   "execution_count": null,
   "metadata": {},
   "outputs": [],
   "source": [
    "Dyadz = trace.copy().rename_dims({\"d\": [\"Dyad\", \"House\"], \"gr\": [\"Household\", \"Rate\"]})"
   ]
  },
  {
   "cell_type": "code",
   "execution_count": null,
   "metadata": {},
   "outputs": [],
   "source": [
    "# Rename sub-objects within chol_gr and chol_dyad\n",
    "PostDyads = Dyadz.posterior = Dyadz.posterior.rename_vars({\"chol_gr_corr\": \"Rho_gr\", \"chol_gr_stds\": \"sigma_gr\", \"chol_dyad_corr\": \"Rho_d\", \"chol_dyad_stds\": \"sigma_d\"})"
   ]
  },
  {
   "cell_type": "code",
   "execution_count": null,
   "metadata": {},
   "outputs": [],
   "source": [
    "tmp = az.summary(Dyadz, var_names=[\"Rho_gr\", \"sigma_gr\"], round_to=2)\n",
    "dfi.export(tmp, 'household_corr.jpg')\n",
    "tmp"
   ]
  },
  {
   "cell_type": "markdown",
   "metadata": {},
   "source": [
    "The correlation here is -0.41, which implies that individuals who give more thend to receive less across all dyads. The standard deviation for giving (0.83) is twice as varaible as rates of receiving (0.41).\n",
    "\n",
    "Let's take a look at the estimated household giving and receiving rates"
   ]
  },
  {
   "cell_type": "code",
   "execution_count": null,
   "metadata": {},
   "outputs": [],
   "source": [
    "# Household level log-giving rate posteriors\n",
    "g = (PostDyads[\"a\"] + PostDyads[\"gr\"].sel(Rate=\"giving\")).stack(sample=(\"chain\", \"draw\"))\n",
    "# Household level log-receiving rate posteriors\n",
    "r = (PostDyads[\"a\"] + PostDyads[\"gr\"].sel(Rate=\"receiving\")).stack(sample=(\"chain\", \"draw\"))\n",
    "\n",
    "# Household expected giving rates\n",
    "Eg_mu = np.exp(g).mean(dim=\"sample\")\n",
    "# Household expected receiving rates\n",
    "Er_mu = np.exp(r).mean(dim=\"sample\")"
   ]
  },
  {
   "cell_type": "code",
   "execution_count": null,
   "metadata": {},
   "outputs": [],
   "source": [
    "_, ax = plt.subplots(1, 1, constrained_layout=True)\n",
    "x = np.linspace(0, 9, 101)\n",
    "ax.plot(x, x, \"k--\", lw=1.5, alpha=0.4)\n",
    "\n",
    "# Plot uncertainty ellipses\n",
    "for house in range(25):\n",
    "    Sigma = np.cov(np.stack([np.exp(g[house].values), np.exp(r[house].values)]))\n",
    "    Mu = np.stack([np.exp(g[house].values.mean()), np.exp(r[house].values.mean())])\n",
    "    pearson = Sigma[0, 1] / np.sqrt(Sigma[0, 0] * Sigma[1, 1])\n",
    "    ellipse = Ellipse((0, 0),np.sqrt(1 + pearson),np.sqrt(1 - pearson),edgecolor=\"k\",alpha=0.5,facecolor=\"none\",)\n",
    "    std_dev = sp.stats.norm.ppf((1 + np.sqrt(0.5)) / 2)\n",
    "    scale_x = 2 * std_dev * np.sqrt(Sigma[0, 0])\n",
    "    scale_y = 2 * std_dev * np.sqrt(Sigma[1, 1])\n",
    "    scale = transforms.Affine2D().rotate_deg(45).scale(scale_x, scale_y)\n",
    "    ellipse.set_transform(scale.translate(Mu[0], Mu[1]) + ax.transData)\n",
    "    ax.add_patch(ellipse)\n",
    "\n",
    "# household means\n",
    "ax.plot(Eg_mu, Er_mu, \"ko\", mfc=\"white\", lw=1.5)\n",
    "\n",
    "ax.set(xlim=(0, 8.6),ylim=(0, 8.6),xlabel=\"generalized giving\",ylabel=\"generalized receiving\",)\n",
    "plt.savefig('exchange.jpg',dpi=300);"
   ]
  },
  {
   "cell_type": "markdown",
   "metadata": {},
   "source": [
    "What becomes clear in this is that there are a bunch of generous households that receive very little and that there are some households that don't give much but often receive more. \n",
    "\n",
    "At the dyad level, what do the paired gift exchange relationships look like?"
   ]
  },
  {
   "cell_type": "code",
   "execution_count": null,
   "metadata": {},
   "outputs": [],
   "source": [
    "tmp = az.summary(Dyadz, var_names=[\"Rho_d\", \"sigma_d\"], round_to=2)\n",
    "dfi.export(tmp, 'dyad_corr.jpg')\n",
    "tmp"
   ]
  },
  {
   "cell_type": "code",
   "execution_count": null,
   "metadata": {},
   "outputs": [],
   "source": [
    "# Grab dyad giving\n",
    "dy1 = PostDyads[\"d\"].mean(dim=(\"chain\", \"draw\")).T[0]\n",
    "dy2 = PostDyads[\"d\"].mean(dim=(\"chain\", \"draw\")).T[1]"
   ]
  },
  {
   "cell_type": "code",
   "execution_count": null,
   "metadata": {},
   "outputs": [],
   "source": [
    "_, ax = plt.subplots(1, 1, constrained_layout=True)\n",
    "x = np.linspace(-2, 4, 101)\n",
    "\n",
    "ax.plot(x, x, \"k--\", lw=1.5, alpha=0.4)\n",
    "ax.axhline(linewidth=1.5, color=\"k\", ls=\"--\", alpha=0.4)\n",
    "ax.axvline(linewidth=1.5, color=\"k\", ls=\"--\", alpha=0.4)\n",
    "ax.plot(dy1, dy2, \"ko\", mfc=\"none\", lw=1.5, alpha=0.6)\n",
    "\n",
    "ax.set(xlim=(-2, 4),ylim=(-2, 4),xlabel=\"household A in dyad\",ylabel=\"household B in dyad\",)\n",
    "plt.savefig('exchange2.jpg',dpi=300);"
   ]
  },
  {
   "cell_type": "markdown",
   "metadata": {},
   "source": [
    "Here we can see that, once we have accounted for individual household behaviour, there is a remarkable consistency within dyads - balanced giving.\n",
    "\n",
    "## Covariates\n",
    "\n",
    "Looking at the households data and thinking about potential giving relationships, we can readily think of four potential relationships:\n",
    "\n",
    "- Average giving\n",
    "- Generous households\n",
    "- Needy households\n",
    "- Family linkages (specific dyads)\n",
    "\n",
    "The last, family linkages, is represented in the `drel`1-4 colums in the data\n"
   ]
  },
  {
   "cell_type": "code",
   "execution_count": null,
   "metadata": {},
   "outputs": [],
   "source": [
    "kdata.head()"
   ]
  },
  {
   "cell_type": "markdown",
   "metadata": {},
   "source": [
    "We aslo have other covariate information at the household level from the researchers"
   ]
  },
  {
   "cell_type": "code",
   "execution_count": null,
   "metadata": {},
   "outputs": [],
   "source": [
    "hdata = pd.read_csv('kl_households.csv')\n",
    "dfi.export(hdata.head(), 'hh_cov.jpg')\n",
    "hdata.head()"
   ]
  },
  {
   "cell_type": "markdown",
   "metadata": {},
   "source": [
    "Let's follow the lead from the original paper and incorporate all these into our model. First grab the covariates"
   ]
  },
  {
   "cell_type": "code",
   "execution_count": null,
   "metadata": {},
   "outputs": [],
   "source": [
    "# Household ID\n",
    "hid = hdata.hid.values\n",
    "\n",
    "# kg meat harvested per day\n",
    "hgame = stdize(hdata.hgame.values)\n",
    "# kg fish harvested per day\n",
    "hfish = stdize(hdata.hfish.values)\n",
    "# avg number of pigs owned during study\n",
    "hpigs = stdize(hdata.hpigs.values)\n",
    "# household weath index\n",
    "hwealth = stdize(hdata.hwealth.values)\n",
    "# Pastor in receiving household\n",
    "hpastor = stdize(hdata.hpastor.values)"
   ]
  },
  {
   "cell_type": "code",
   "execution_count": null,
   "metadata": {},
   "outputs": [],
   "source": [
    "# Number of observations\n",
    "N = len(kdata)\n",
    "# Number of households\n",
    "N_households = max(kdata.hidB)\n",
    "# Dyad ID\n",
    "Id = kdata.did.values-1\n",
    "# Index household\n",
    "IhA = kdata.hidA.values-1\n",
    "# Index household\n",
    "IhB = kdata.hidB.values-1\n",
    "# Gifts from A to B\n",
    "giftsAB = kdata.giftsAB\n",
    "# Gifts from B to A\n",
    "giftsBA = kdata.giftsBA\n",
    "\n",
    "# Mother-offspring (r=0.5)\n",
    "drel1 = kdata.drel1.values\n",
    "# Father-offspring OR sibling (r=0.5)\n",
    "drel2 = kdata.drel2.values\n",
    "# Close relative (0.25<r<0.5)\n",
    "drel3 = kdata.drel3.values\n",
    "# Distant relative (0.1<r<0.25)\n",
    "drel4 = kdata.drel4.values\n",
    "\n",
    "# Distance between households on log-scale (km)\n",
    "dlndist = stdize(kdata.dlndist.values)\n",
    "\n",
    "# Frequency of association \n",
    "dass = stdize(kdata.dass.values)\n",
    "\n",
    "# ?\n",
    "d0125 = stdize(kdata.d0125.values)\n",
    "\n",
    "# Offset?\n",
    "oset = kdata.offset.values"
   ]
  },
  {
   "cell_type": "markdown",
   "metadata": {},
   "source": [
    "# Dyads covariate model\n",
    "\n",
    "Buidling on the intercept-only model, we can look at Koester and Leicke's model, written in `WinBUGS`:\n",
    "\n",
    "```\n",
    "model{\n",
    "\n",
    "  #Dyadic response distributions\n",
    "  for(d in 1:300) {\n",
    "  \n",
    "    # Observed gifts from A to B modeled as Poisson distributed\n",
    "    giftsAB[d] ~ dpois(muAB[d])\n",
    "    \n",
    "    # Observed gifts from B to A modeled as Poisson distributed\n",
    "    giftsBA[d] ~ dpois(muBA[d])\n",
    "\n",
    "    # Linear predictor for log of expected gifts from A to B\n",
    "    log(muAB[d]) <- offset[d] \n",
    "                  + beta[1]\n",
    "                  + beta[2]*hgame[hidA[d]]\n",
    "                  + beta[3]*hfish[hidA[d]]\n",
    "                  + beta[4]*hpigs[hidA[d]]\n",
    "                  + beta[5]*hwealth[hidA[d]]\n",
    "                  + beta[6]*hgame[hidB[d]]\n",
    "                  + beta[7]*hfish[hidB[d]]\n",
    "                  + beta[8]*hpigs[hidB[d]]\n",
    "                  + beta[9]*hwealth[hidB[d]]\n",
    "                  + beta[10]*hpastor[hidB[d]]\n",
    "                  + beta[11]*drel1[d]\n",
    "                  + beta[12]*drel2[d]\n",
    "                  + beta[13]*drel3[d]\n",
    "                  + beta[14]*drel4[d]\n",
    "                  + beta[15]*dlndist[d]\n",
    "                  + beta[16]*dass[d] \n",
    "                  + beta[17]*d0125[d] \n",
    "                  + gr[hidA[d],1] + gr[hidB[d],2] + dd[d,1]\n",
    "    \n",
    "    # Linear predictor for log of expected gifts from A to B\n",
    "    log(muBA[d]) <- offset[d] \n",
    "                  + beta[1]  \n",
    "                  + beta[2]*hgame[hidB[d]]\n",
    "                  + beta[3]*hfish[hidB[d]]\n",
    "                  + beta[4]*hpigs[hidB[d]]\n",
    "                  + beta[5]*hwealth[hidB[d]]\n",
    "                  + beta[6]*hgame[hidA[d]]\n",
    "                  + beta[7]*hfish[hidA[d]]\n",
    "                  + beta[8]*hpigs[hidA[d]]\n",
    "                  + beta[9]*hwealth[hidA[d]]\n",
    "                  + beta[10]*hpastor[hidA[d]]\n",
    "                  + beta[11]*drel1[d]\n",
    "                  + beta[12]*drel2[d]\n",
    "                  + beta[13]*drel3[d]\n",
    "                  + beta[14]*drel4[d]\n",
    "                  + beta[15]*dlndist[d]\n",
    "                  + beta[16]*dass[d] \n",
    "                  + beta[17]*d0125[d]\n",
    "                  + gr[hidB[d],1] + gr[hidA[d],2] + dd[d,2]\n",
    "    \n",
    "  }\n",
    "\n",
    "\n",
    "  #Giver and receiver bivariate normal random effects\n",
    "  for (h in 1:25) {\n",
    "    gr[h,1:2] ~ dmnorm(zero[1:2],TAU_gr[1:2,1:2])\n",
    "  }\n",
    "  zero[1] <- 0\n",
    "  zero[2] <- 0\n",
    "\n",
    "\n",
    "  #Relationship bivariate normal random effects\n",
    "  for(d in 1:300) {\n",
    "    dd[d,1:2] ~ dmnorm(zero[1:2],TAU_dd[1:2,1:2])\n",
    "  }\n",
    "\n",
    "  #Priors for fixed effects regression coefficients\n",
    "  for (k in 1:17) {\n",
    "    beta[k] ~ dflat()\n",
    "  }\n",
    "\n",
    "\n",
    "  #Priors for giver-receiver variance-covariance matrix\n",
    "  TAU_gr[1:2,1:2] ~ dwish(R_gr[1:2,1:2],2)\n",
    "  COV_gr[1:2,1:2] <- inverse(TAU_gr[,])\n",
    "\n",
    "\n",
    "  #Priors for relationship variance-covariance matrix  \n",
    "  TAU_dd[1:2,1:2] <- inverse(COV_dd[1:2,1:2])\n",
    "  COV_dd[1,1] <- sigma2_d\n",
    "  COV_dd[1,2] <- sigma_dd\n",
    "  COV_dd[2,1] <- sigma_dd\n",
    "  COV_dd[2,2] <- sigma2_d\n",
    "  sigma_dd <- rho_dd*sigma2_d\n",
    "  sigma2_d <- 1/tau_d\n",
    "  tau_d ~ dgamma(0.001,0.001)\n",
    "  rho_dd ~ dunif(-1,1)\n",
    "\n",
    "}\n",
    "```"
   ]
  },
  {
   "cell_type": "code",
   "execution_count": null,
   "metadata": {},
   "outputs": [],
   "source": [
    "with pm.Model(coords={\"Rate\": [\"giving\", \"receiving\"], \"HouseH\":HH}) as DyadsCOV:\n",
    "    # gr matrix of varying effects per household\n",
    "    sd_dist = pm.Exponential.dist(1.0)\n",
    "    chol_gr, _, _ = pm.LKJCholeskyCov(\"chol_gr\", n=2, eta=4, sd_dist=sd_dist, compute_corr=True)\n",
    "    gr = pm.MvNormal(\"gr\", mu=0, chol=chol_gr, shape=(N_households, 2), dims=('HouseH','Rate'))\n",
    "\n",
    "    # dyad effects\n",
    "    chol_dyad, _, _ = pm.LKJCholeskyCov(\"chol_dyad\", n=2, eta=8, sd_dist=sd_dist, compute_corr=True)\n",
    "    z = pm.Normal(\"z\", 0, 1, shape=(2, N))\n",
    "    d = pm.Deterministic(\"d\", pm.math.dot(chol_dyad, z).T)\n",
    "\n",
    "    # Household effects\n",
    "    a = pm.Normal(\"intercept\", 0, 1)\n",
    "    b2 = pm.Normal(\"game_g\", 0, 1)\n",
    "    b3 = pm.Normal(\"fish_g\", 0, 1)\n",
    "    b4 = pm.Normal(\"pigs_g\", 0, 1)\n",
    "    b5 = pm.Normal(\"wealth_g\", 0, 1)\n",
    "    b6 = pm.Normal(\"game_r\", 0, 1)\n",
    "    b7 = pm.Normal(\"fish_r\", 0, 1)\n",
    "    b8 = pm.Normal(\"pigs_r\", 0, 1)\n",
    "    b9 = pm.Normal(\"wealth_r\", 0, 1)\n",
    "    b10 = pm.Normal(\"pastor_r\", 0, 1)\n",
    "    b11 = pm.Normal(\"rel1\", 0, 1)\n",
    "    b12 = pm.Normal(\"rel2\", 0, 1)\n",
    "    b13 = pm.Normal(\"rel3\", 0, 1)\n",
    "    b14 = pm.Normal(\"rel4\", 0, 1)\n",
    "    b15 = pm.Normal(\"distance\", 0, 1)\n",
    "    b16 = pm.Normal(\"association\", 0, 1)\n",
    "    b17 = pm.Normal(\"d0125\", 0, 1)\n",
    "    \n",
    "    # linear models\n",
    "    lambdaAB = pm.math.exp(oset + a + b2*hgame[IhA] + b3*hfish[IhA] + b4*hpigs[IhA] + b5*hwealth[IhA] + \n",
    "                      b6*hgame[IhB] + b7*hfish[IhB] + b8*hpigs[IhB] + b9*hwealth[IhB] + \n",
    "                      b10*hpastor[IhB] + b11*drel1 + b12*drel2 + b13*drel3 + b14*drel4 + b15*dlndist + b16*dass + \n",
    "                      b17*d0125 + gr[IhA, 0] + gr[IhB, 1] + d[Id, 0])\n",
    "    lambdaBA = pm.math.exp(oset + a + b2*hgame[IhB] + b3*hfish[IhB] + b4*hpigs[IhB] + b5*hwealth[IhB] + \n",
    "                      b6*hgame[IhA] + b7*hfish[IhA] + b8*hpigs[IhA] + b9*hwealth[IhA] + \n",
    "                      b10*hpastor[IhA] + b11*drel1 + b12*drel2 + b13*drel3 + b14*drel4 + b15*dlndist + b16*dass + \n",
    "                      b17*d0125 + gr[IhB, 0] + gr[IhA, 1] + d[Id, 1])\n",
    "\n",
    "    # likelihood\n",
    "    YgiftsAB = pm.Poisson(\"YgiftsAB\", lambdaAB, observed=giftsAB)\n",
    "    YgiftsBA = pm.Poisson(\"YgiftsBA\", lambdaBA, observed=giftsBA)"
   ]
  },
  {
   "cell_type": "code",
   "execution_count": null,
   "metadata": {},
   "outputs": [],
   "source": [
    "with DyadsCOV:\n",
    "    trace_c = pm.sample()"
   ]
  },
  {
   "cell_type": "code",
   "execution_count": null,
   "metadata": {},
   "outputs": [],
   "source": [
    "Dyadz = trace_c.copy().rename_dims({\"d\": [\"Dyad\", \"House\"], \"gr\": [\"Household\", \"Rate\"]})"
   ]
  },
  {
   "cell_type": "code",
   "execution_count": null,
   "metadata": {},
   "outputs": [],
   "source": [
    "# Rename sub-objects within chol_gr and chol_dyad\n",
    "PostDyads = Dyadz.posterior = Dyadz.posterior.rename_vars({\"chol_gr_corr\": \"Rho_gr\", \"chol_gr_stds\": \"sigma_gr\", \"chol_dyad_corr\": \"Rho_d\", \"chol_dyad_stds\": \"sigma_d\"})"
   ]
  },
  {
   "cell_type": "code",
   "execution_count": null,
   "metadata": {},
   "outputs": [],
   "source": [
    "tmp = az.summary(Dyadz, var_names=[\"Rho_gr\", \"sigma_gr\"], round_to=2)\n",
    "dfi.export(tmp, 'household_corr_cov.jpg')\n",
    "tmp"
   ]
  },
  {
   "cell_type": "markdown",
   "metadata": {},
   "source": [
    "The correlation here was -0.41 in the non-covariate model (which implied that individuals who give more thend to receive less across all dyads) but is now down to 0.05, implying that there is no remaining correlation between givers and receivers given the covariates in the model. The standard deviation for giving is now down to 0.5 (from 0.83) and the variation in rates of receiving is down to 0.3 (from 0.41).\n",
    "\n",
    "Let's take a look at the estimated household giving and receiving rates and how they have changed"
   ]
  },
  {
   "cell_type": "code",
   "execution_count": null,
   "metadata": {},
   "outputs": [],
   "source": [
    "# Household level log-giving rate posteriors\n",
    "g = (PostDyads[\"intercept\"] + PostDyads[\"gr\"].sel(Rate=\"giving\")).stack(sample=(\"chain\", \"draw\"))\n",
    "# Household level log-receiving rate posteriors\n",
    "r = (PostDyads[\"intercept\"] + PostDyads[\"gr\"].sel(Rate=\"receiving\")).stack(sample=(\"chain\", \"draw\"))\n",
    "\n",
    "# Household expected giving rates\n",
    "Eg_mu = np.exp(g).mean(dim=\"sample\")\n",
    "# Household expected receiving rates\n",
    "Er_mu = np.exp(r).mean(dim=\"sample\")"
   ]
  },
  {
   "cell_type": "code",
   "execution_count": null,
   "metadata": {},
   "outputs": [],
   "source": [
    "_, ax = plt.subplots(1, 1, constrained_layout=True)\n",
    "x = np.linspace(0, 9, 101)\n",
    "ax.plot(x, x, \"k--\", lw=1.5, alpha=0.4)\n",
    "\n",
    "# Plot uncertainty ellipses\n",
    "for house in range(25):\n",
    "    Sigma = np.cov(np.stack([np.exp(g[house].values), np.exp(r[house].values)]))\n",
    "    Mu = np.stack([np.exp(g[house].values.mean()), np.exp(r[house].values.mean())])\n",
    "    pearson = Sigma[0, 1] / np.sqrt(Sigma[0, 0] * Sigma[1, 1])\n",
    "    ellipse = Ellipse((0, 0),np.sqrt(1 + pearson),np.sqrt(1 - pearson),edgecolor=\"k\",alpha=0.5,facecolor=\"none\",)\n",
    "    std_dev = sp.stats.norm.ppf((1 + np.sqrt(0.5)) / 2)\n",
    "    scale_x = 2 * std_dev * np.sqrt(Sigma[0, 0])\n",
    "    scale_y = 2 * std_dev * np.sqrt(Sigma[1, 1])\n",
    "    scale = transforms.Affine2D().rotate_deg(45).scale(scale_x, scale_y)\n",
    "    ellipse.set_transform(scale.translate(Mu[0], Mu[1]) + ax.transData)\n",
    "    ax.add_patch(ellipse)\n",
    "\n",
    "# household means\n",
    "ax.plot(Eg_mu, Er_mu, \"ko\", mfc=\"white\", lw=1.5)\n",
    "\n",
    "ax.set(xlim=(0, 8.6),ylim=(0, 8.6),xlabel=\"generalized giving\",ylabel=\"generalized receiving\",)\n",
    "plt.savefig('exchange_cov.jpg',dpi=300);"
   ]
  },
  {
   "cell_type": "markdown",
   "metadata": {},
   "source": [
    "The previous strong disparities between givers and receivers have been shrunk down, suggesting again that the covariates explain these very generous or needy households\n",
    "\n",
    "\n",
    "At the dyad level, what do the paired gift exchange relationships look like?"
   ]
  },
  {
   "cell_type": "code",
   "execution_count": null,
   "metadata": {},
   "outputs": [],
   "source": [
    "tmp = az.summary(Dyadz, var_names=[\"Rho_d\", \"sigma_d\"], round_to=2)\n",
    "dfi.export(tmp, 'dyad_corr_cov.jpg')\n",
    "tmp"
   ]
  },
  {
   "cell_type": "markdown",
   "metadata": {},
   "source": [
    "Here the remaining correlaiton for equal giving has shrunk from 0.88 to 0.5, expressing that the covariates also account for some of these effects."
   ]
  },
  {
   "cell_type": "code",
   "execution_count": null,
   "metadata": {},
   "outputs": [],
   "source": [
    "# Grab dyad giving\n",
    "dy1 = PostDyads[\"d\"].mean(dim=(\"chain\", \"draw\")).T[0]\n",
    "dy2 = PostDyads[\"d\"].mean(dim=(\"chain\", \"draw\")).T[1]"
   ]
  },
  {
   "cell_type": "code",
   "execution_count": null,
   "metadata": {},
   "outputs": [],
   "source": [
    "_, ax = plt.subplots(1, 1, constrained_layout=True)\n",
    "x = np.linspace(-2, 4, 101)\n",
    "\n",
    "ax.plot(x, x, \"k--\", lw=1.5, alpha=0.4)\n",
    "ax.axhline(linewidth=1.5, color=\"k\", ls=\"--\", alpha=0.4)\n",
    "ax.axvline(linewidth=1.5, color=\"k\", ls=\"--\", alpha=0.4)\n",
    "ax.plot(dy1, dy2, \"ko\", mfc=\"none\", lw=1.5, alpha=0.6)\n",
    "\n",
    "ax.set(xlim=(-2, 4),ylim=(-2, 4),xlabel=\"household A in dyad\",ylabel=\"household B in dyad\",)\n",
    "plt.savefig('exchange2_cov.jpg',dpi=300);"
   ]
  },
  {
   "cell_type": "markdown",
   "metadata": {},
   "source": [
    "Which becomes clear here in that the extremes have been reduced.\n",
    "\n",
    "Which variables might these effects be attributable to (keeping in mind this is pure causal salad): \n",
    "\n"
   ]
  },
  {
   "cell_type": "code",
   "execution_count": null,
   "metadata": {},
   "outputs": [],
   "source": [
    "pm.plot_forest(trace_c, var_names=['intercept','game_g','fish_g','pigs_g','wealth_g','game_r','fish_r','pigs_r','wealth_r','pastor_r','rel1','rel2','rel3','rel4','distance','association','d0125'],figsize=(8, 8))\n",
    "plt.axvline(0)\n",
    "plt.tight_layout()\n",
    "plt.savefig('covariate_forest.jpg',dpi=300);"
   ]
  },
  {
   "cell_type": "code",
   "execution_count": null,
   "metadata": {},
   "outputs": [],
   "source": []
  },
  {
   "cell_type": "code",
   "execution_count": null,
   "metadata": {},
   "outputs": [],
   "source": []
  },
  {
   "cell_type": "code",
   "execution_count": null,
   "metadata": {},
   "outputs": [],
   "source": []
  },
  {
   "cell_type": "code",
   "execution_count": null,
   "metadata": {},
   "outputs": [],
   "source": []
  },
  {
   "cell_type": "code",
   "execution_count": null,
   "metadata": {},
   "outputs": [],
   "source": []
  },
  {
   "cell_type": "code",
   "execution_count": null,
   "metadata": {},
   "outputs": [],
   "source": []
  },
  {
   "cell_type": "code",
   "execution_count": null,
   "metadata": {},
   "outputs": [],
   "source": []
  },
  {
   "cell_type": "code",
   "execution_count": null,
   "metadata": {},
   "outputs": [],
   "source": []
  },
  {
   "cell_type": "code",
   "execution_count": null,
   "metadata": {},
   "outputs": [],
   "source": []
  }
 ],
 "metadata": {
  "kernelspec": {
   "display_name": "Python 3 (ipykernel)",
   "language": "python",
   "name": "python3"
  },
  "language_info": {
   "codemirror_mode": {
    "name": "ipython",
    "version": 3
   },
   "file_extension": ".py",
   "mimetype": "text/x-python",
   "name": "python",
   "nbconvert_exporter": "python",
   "pygments_lexer": "ipython3",
   "version": "3.11.6"
  }
 },
 "nbformat": 4,
 "nbformat_minor": 4
}
