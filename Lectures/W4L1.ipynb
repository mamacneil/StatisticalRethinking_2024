{
 "cells": [
  {
   "cell_type": "markdown",
   "metadata": {},
   "source": [
    "# Week 4 Lecture 1 - Backdoor paths\n",
    "\n",
    "McElreath's lectures for the whole book are available here: https://github.com/rmcelreath/stat_rethinking_2022\n",
    "\n",
    "An R/Stan repo of code is available here: https://vincentarelbundock.github.io/rethinking2/\n",
    "\n",
    "An excellent port to Python/PyMC Code is available here: https://github.com/dustinstansbury/statistical-rethinking-2023\n",
    "\n",
    "You are encouraged to work through both of these versions to re-enforce what we're doing in class."
   ]
  },
  {
   "cell_type": "code",
   "execution_count": null,
   "metadata": {},
   "outputs": [],
   "source": [
    "# Import python packages\n",
    "%matplotlib inline\n",
    "import pandas as pd\n",
    "import numpy as np\n",
    "import seaborn as sns\n",
    "import scipy as sp \n",
    "import random as rd\n",
    "import pymc as pm\n",
    "from matplotlib import pyplot as plt\n",
    "\n",
    "\n",
    "# Helper functions\n",
    "def stdize(x):\n",
    "    return (x-np.mean(x))/np.std(x)\n",
    "\n",
    "\n",
    "def indexall(L):\n",
    "    poo = []\n",
    "    for p in L:\n",
    "        if not p in poo:\n",
    "            poo.append(p)\n",
    "    Ix = np.array([poo.index(p) for p in L])\n",
    "    return poo,Ix"
   ]
  },
  {
   "cell_type": "markdown",
   "metadata": {},
   "source": [
    "## Return to Waffle Houses\n",
    "\n",
    "From the waffle house data we can assert a full causal graph:\n",
    "\n",
    "![](wafflez.jpg)\n",
    "\n",
    "And by importing the data, we can check the implications of our assumptions, and how playing with the elemental confounds changes the effect sizes we see in our statistical model."
   ]
  },
  {
   "cell_type": "code",
   "execution_count": null,
   "metadata": {},
   "outputs": [],
   "source": [
    "# Import data\n",
    "ddata = pd.read_csv('WaffleDivorce.csv',sep=\";\")\n",
    "# Display top 5 rows\n",
    "ddata.head()"
   ]
  },
  {
   "cell_type": "code",
   "execution_count": null,
   "metadata": {},
   "outputs": [],
   "source": [
    "# Standardize variables\n",
    "AgeMarriage = stdize(ddata.MedianAgeMarriage.values)\n",
    "MarriageRate = stdize(ddata.Marriage.values)\n",
    "PropSlaves1860 = stdize(ddata.PropSlaves1860.values)\n",
    "Divorce = stdize(ddata.Divorce.values)\n",
    "WaffleHouses = stdize(ddata.WaffleHouses.values)\n",
    "South = stdize(ddata.South.values)"
   ]
  },
  {
   "cell_type": "markdown",
   "metadata": {},
   "source": [
    "With this diagram and data, let's see how blocking the backdor through conditioning on S versus A and M changes the effect of W on D."
   ]
  },
  {
   "cell_type": "code",
   "execution_count": null,
   "metadata": {},
   "outputs": [],
   "source": [
    "with pm.Model() as Smod:\n",
    "    # Baseline intercept\n",
    "    β0 = pm.Normal('Intercept', 0, 0.2)\n",
    "    # Waffle House effect\n",
    "    βWH = pm.Normal('WaffleHouses', 0, 0.5)\n",
    "    # Southern\n",
    "    βS = pm.Normal('South', 0, 0.5)\n",
    "    # Linear model\n",
    "    μ = β0+βWH*WaffleHouses+βS*South\n",
    "    # Error\n",
    "    σ = pm.Uniform('SD_obs', 0, 10)\n",
    "    # Likelihood\n",
    "    Yi = pm.Normal('Yi', μ, σ, observed=Divorce)"
   ]
  },
  {
   "cell_type": "code",
   "execution_count": null,
   "metadata": {},
   "outputs": [],
   "source": [
    "with pm.Model() as AMmod:\n",
    "    # Baseline intercept\n",
    "    β0 = pm.Normal('Intercept', 0, 0.2)\n",
    "    # Waffle House effect\n",
    "    βWH = pm.Normal('WaffleHouses', 0, 0.5)\n",
    "    # Marriage age\n",
    "    βA = pm.Normal('AgeMarriage', 0, 0.5)\n",
    "    # Marriage rate\n",
    "    βM = pm.Normal('MarriageRate', 0, 0.5)\n",
    "    # Linear model\n",
    "    μ = β0+βWH*WaffleHouses+βA*AgeMarriage+βM*MarriageRate\n",
    "    # Error\n",
    "    σ = pm.Uniform('SD_obs', 0, 10)\n",
    "    # Likelihood\n",
    "    Yi = pm.Normal('Yi', μ, σ, observed=Divorce)"
   ]
  },
  {
   "cell_type": "code",
   "execution_count": null,
   "metadata": {},
   "outputs": [],
   "source": [
    "with pm.Model() as Amod:\n",
    "    # Baseline intercept\n",
    "    β0 = pm.Normal('Intercept', 0, 0.2)\n",
    "    # Waffle House effect\n",
    "    βWH = pm.Normal('WaffleHouses', 0, 0.5)\n",
    "    # Marriage age\n",
    "    βA = pm.Normal('AgeMarriage', 0, 0.5)\n",
    "    # Linear model\n",
    "    μ = β0+βWH*WaffleHouses+βA*AgeMarriage\n",
    "    # Error\n",
    "    σ = pm.Uniform('SD_obs', 0, 10)\n",
    "    # Likelihood\n",
    "    Yi = pm.Normal('Yi', μ, σ, observed=Divorce)"
   ]
  },
  {
   "cell_type": "code",
   "execution_count": null,
   "metadata": {},
   "outputs": [],
   "source": [
    "with pm.Model() as Mmod:\n",
    "    # Baseline intercept\n",
    "    β0 = pm.Normal('Intercept', 0, 0.2)\n",
    "    # Waffle House effect\n",
    "    βWH = pm.Normal('WaffleHouses', 0, 0.5)\n",
    "    # Marriage reat\n",
    "    βM = pm.Normal('MarriageRate', 0, 0.5)\n",
    "    # Linear model\n",
    "    μ = β0+βWH*WaffleHouses+βM*MarriageRate\n",
    "    # Error\n",
    "    σ = pm.Uniform('SD_obs', 0, 10)\n",
    "    # Likelihood\n",
    "    Yi = pm.Normal('Yi', μ, σ, observed=Divorce)"
   ]
  },
  {
   "cell_type": "code",
   "execution_count": null,
   "metadata": {},
   "outputs": [],
   "source": [
    "with Smod:\n",
    "    trace_s = pm.sample(1000)\n",
    "with AMmod:\n",
    "    trace_am = pm.sample(1000)\n",
    "with Amod:\n",
    "    trace_a = pm.sample(1000)\n",
    "with Mmod:\n",
    "    trace_m = pm.sample(1000)"
   ]
  },
  {
   "cell_type": "code",
   "execution_count": null,
   "metadata": {},
   "outputs": [],
   "source": [
    "# Look at southern model results\n",
    "pm.summary(trace_s)"
   ]
  },
  {
   "cell_type": "code",
   "execution_count": null,
   "metadata": {},
   "outputs": [],
   "source": [
    "pm.plot_forest(trace_s)\n",
    "plt.axvline(0)\n",
    "plt.tight_layout()\n",
    "plt.savefig('waffleS.jpg',dpi=300)"
   ]
  },
  {
   "cell_type": "code",
   "execution_count": null,
   "metadata": {},
   "outputs": [],
   "source": [
    "pm.summary(trace_am)"
   ]
  },
  {
   "cell_type": "code",
   "execution_count": null,
   "metadata": {},
   "outputs": [],
   "source": [
    "pm.summary(trace_a)"
   ]
  },
  {
   "cell_type": "code",
   "execution_count": null,
   "metadata": {},
   "outputs": [],
   "source": [
    "pm.summary(trace_m)"
   ]
  },
  {
   "cell_type": "code",
   "execution_count": null,
   "metadata": {},
   "outputs": [],
   "source": [
    "az.style.use(\"arviz-darkgrid\")\n",
    "\n",
    "axes = az.plot_forest(\n",
    "    [trace_s, trace_am, trace_m], model_names=[\"Southern\", \"Marriage A&M\",\"Marriage M\"])\n",
    "axes[0].set_title(\"Waffle House effects model\")\n",
    "plt.axvline(0)\n",
    "plt.show()"
   ]
  },
  {
   "cell_type": "markdown",
   "metadata": {},
   "source": [
    "Humm, we can see that South negates the Waffle House effect as expected, however conditioning on M and A doesn't do the same thing...there must be other, unmeasured backdoor paths through W to have an effect. "
   ]
  }
 ],
 "metadata": {
  "kernelspec": {
   "display_name": "Python 3 (ipykernel)",
   "language": "python",
   "name": "python3"
  },
  "language_info": {
   "codemirror_mode": {
    "name": "ipython",
    "version": 3
   },
   "file_extension": ".py",
   "mimetype": "text/x-python",
   "name": "python",
   "nbconvert_exporter": "python",
   "pygments_lexer": "ipython3",
   "version": "3.11.6"
  }
 },
 "nbformat": 4,
 "nbformat_minor": 4
}
