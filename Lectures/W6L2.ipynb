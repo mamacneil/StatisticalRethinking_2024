{
 "cells": [
  {
   "cell_type": "markdown",
   "metadata": {},
   "source": [
    "## Week 6 Lecture 2 - Binomial regression\n",
    "\n",
    "McElreath's lecture for today: https://www.youtube.com/watch?v=hRJtKCIDTwc\n",
    "\n",
    "McElreath's lectures for the whole book are available here: https://github.com/rmcelreath/statrethinking_winter2019\n",
    "\n",
    "An R/Stan repo of code is available here: https://vincentarelbundock.github.io/rethinking2/\n",
    "\n",
    "An excellent port to Python/PyMC Code is available here: https://github.com/dustinstansbury/statistical-rethinking-2023\n",
    "\n",
    "You are encouraged to work through both of these versions to re-enforce what we're doing in class."
   ]
  },
  {
   "cell_type": "code",
   "execution_count": null,
   "metadata": {},
   "outputs": [],
   "source": [
    "# Import python packages\n",
    "%matplotlib inline\n",
    "import pandas as pd\n",
    "import numpy as np\n",
    "import seaborn as sns\n",
    "import scipy as sp \n",
    "import random as rd\n",
    "import pdb\n",
    "import pymc as pm\n",
    "import arviz as az\n",
    "import networkx as nx\n",
    "from matplotlib import pyplot as plt\n",
    "import dataframe_image as dfi\n",
    "\n",
    "\n",
    "# Helper functions\n",
    "def stdize(x):\n",
    "    return (x-np.mean(x))/np.std(x)\n",
    "\n",
    "\n",
    "def indexall(L):\n",
    "    poo = []\n",
    "    for p in L:\n",
    "        if not p in poo:\n",
    "            poo.append(p)\n",
    "    Ix = np.array([poo.index(p) for p in L])\n",
    "    return poo,Ix\n",
    "\n",
    "def indexall_(L):\n",
    "    Il, Ll = pd.factorize(L, sort=True)\n",
    "    return Ll, Il"
   ]
  },
  {
   "cell_type": "markdown",
   "metadata": {},
   "source": [
    "## Monkey hands\n",
    "\n",
    "In chapter 11 (p325) there is a description of experiments done by [Silk et al 2005](https://www.nature.com/articles/nature04243), whereby chimpanzees are given the option of having food for themselves alone, or having the same quantity of food for themselves plus giving it to another chimp at the opposite end of a table.  The study design looks like this:\n",
    "\n",
    "![inline](chimps1.jpg)![inline](chimps2.jpg)\n",
    "\n",
    "where, given this particular setup, pulling the right hand lever would give just the subject (the *actor* in the text) a grape, while pulling the left lever would also give the other chimp a grape. The placement of the other grape is randomly assigned because chimps are also right/left handed. "
   ]
  },
  {
   "cell_type": "code",
   "execution_count": null,
   "metadata": {},
   "outputs": [],
   "source": [
    "# Grab chimp data\n",
    "cdata = pd.read_csv('chimpanzees.csv',sep=';')\n",
    "cdata.head()"
   ]
  },
  {
   "cell_type": "markdown",
   "metadata": {},
   "source": [
    "Here we have four potential treatments:\n",
    "\n",
    "- prosoc_left = 0 AND condition = 0 (Two food items on right and no partner)\n",
    "- prosoc_left = 0 AND condition = 1 (Two food items on right and partner present)\n",
    "- prosoc_left = 1 AND condition = 0 (Two food items on left and no partner)\n",
    "- prosoc_left = 1 AND condition = 1 (Two food items on left and partner present)\n",
    "\n",
    "that we can encode into one of four treatments:"
   ]
  },
  {
   "cell_type": "code",
   "execution_count": null,
   "metadata": {},
   "outputs": [],
   "source": [
    "cdata['treatment'] = 1 + cdata.prosoc_left + 2*cdata.condition\n",
    "cdata.treatment.values"
   ]
  },
  {
   "cell_type": "markdown",
   "metadata": {},
   "source": [
    "To figure out if chimps enact pro-social behaviour and give the other chimp a grape (without penalty to themselves) reuquires a statistical model. To start, we'll build a simple model based on what happens with the left-hand lever (i.e. if the left was pulled it's 1, if the right it's 0):\n",
    "\n",
    "$$\n",
    "\\begin{aligned}\n",
    "L_i & \\sim Bin(1,p_i) \\\\\n",
    "logit(p_i) & = \\beta_{actor}+\\beta_{treatment}\n",
    "\\end{aligned}\n",
    "$$\n",
    "\n",
    "The next thing we need to do is specify some priors. And for that we'll start with some reasonable values then take a look through piror predictive simulation. Thinking about this, we know that the full range of 0 to 1, is about -4 to 4 on the log-odds (logit) scale. So for a normal prior to span that range, we'd need somthing that is about $2SD=4$ or $SD=2$. So let's try that:"
   ]
  },
  {
   "cell_type": "code",
   "execution_count": null,
   "metadata": {},
   "outputs": [],
   "source": [
    "# Inverse-logit function\n",
    "def invlogit(x):\n",
    "    return np.exp(x)/(1+np.exp(x))\n",
    "\n",
    "# Random samples from a N(0,2)\n",
    "plt.hist(invlogit(np.random.normal(0,2,1000)))\n",
    "plt.savefig('histo1.jpg',dpi=300);"
   ]
  },
  {
   "cell_type": "markdown",
   "metadata": {},
   "source": [
    "Not quite flat - McElreath uses $N(0, 1.5)$, so let's try that"
   ]
  },
  {
   "cell_type": "code",
   "execution_count": null,
   "metadata": {},
   "outputs": [],
   "source": [
    "# Random samples from a N(0,1.5)\n",
    "plt.hist(invlogit(np.random.normal(0,1.5,10000)))\n",
    "plt.savefig('histo2.jpg',dpi=300);"
   ]
  },
  {
   "cell_type": "markdown",
   "metadata": {},
   "source": [
    "Can we do better still? $N(0, 1.7)$?"
   ]
  },
  {
   "cell_type": "code",
   "execution_count": null,
   "metadata": {},
   "outputs": [],
   "source": [
    "# Random samples from a N(0,1.7)\n",
    "plt.hist(invlogit(np.random.normal(0,1.7,10000)))\n",
    "plt.savefig('histo3.jpg',dpi=300);"
   ]
  },
  {
   "cell_type": "markdown",
   "metadata": {},
   "source": [
    "For the treatment effects, what we want to know is the difference in how often the left hand lever is pulled when there is a pro-social grape in the partner's box and when there isn't. So this we can represent as leading to some sort of increase in probability. In general these kinds of behavioural difference in psychology are low, so we can pick a prior with low potential differences, something like $N(0,0.25)$:"
   ]
  },
  {
   "cell_type": "code",
   "execution_count": null,
   "metadata": {},
   "outputs": [],
   "source": [
    "n_ = 10000\n",
    "nt = invlogit(np.random.normal(0,1.7,n_))\n",
    "tn = invlogit(nt+np.random.normal(0,0.25,n_))\n",
    "plt.hist(abs(nt-tn))\n",
    "plt.savefig('betaT.jpg',dpi=300);"
   ]
  },
  {
   "cell_type": "markdown",
   "metadata": {},
   "source": [
    "This isn't too bad, it favours lower values with a peak at about a 10% difference. This might seem too narrow but remember that any normal prior can still take on extreeme values (they're not prohibited), but they're just unlikely. If you have a lot of data this prior will be overwhealmed. Keep in mind what such regularization does: **good priors hurt the fit to sample but improve prediction**. \n",
    "\n",
    "Ok, so let's build our model:"
   ]
  },
  {
   "cell_type": "code",
   "execution_count": null,
   "metadata": {},
   "outputs": [],
   "source": [
    "# Grab data\n",
    "# Left pull - response\n",
    "L = cdata.pulled_left.values\n",
    "# Individual chimps\n",
    "Actor,Ia = indexall(cdata.actor.values)\n",
    "Chimp = ['Chimp '+str(a) for a in Actor]\n",
    "nchimps = len(Actor)\n",
    "# Treatment\n",
    "Treatment,It = indexall(cdata.treatment.values)\n",
    "Treatment = ['R/N','L/N','R/P','L/P']\n",
    "ntreat = len(Treatment)"
   ]
  },
  {
   "cell_type": "code",
   "execution_count": null,
   "metadata": {},
   "outputs": [],
   "source": [
    "Treatment"
   ]
  },
  {
   "cell_type": "code",
   "execution_count": null,
   "metadata": {},
   "outputs": [],
   "source": [
    "with pm.Model(coords={'Chimp':Chimp, 'Treat': Treatment}) as Chimps:\n",
    "    # Individual intercepts\n",
    "    β0 = pm.Normal('Actor', 0, 1.7, dims='Chimp')\n",
    "    # Treatment effects\n",
    "    β1 = pm.Normal('Treatment', 0, 0.25, dims='Treat')\n",
    "\n",
    "    # Linear model\n",
    "    p = pm.invlogit(β0[Ia]+β1[It])\n",
    "\n",
    "    # Likelihood\n",
    "    Yi = pm.Binomial('Yi', 1, p,observed=L)"
   ]
  },
  {
   "cell_type": "code",
   "execution_count": null,
   "metadata": {},
   "outputs": [],
   "source": [
    "with Chimps:\n",
    "    trace_c = pm.sample(1000, idata_kwargs={\"log_likelihood\": True})"
   ]
  },
  {
   "cell_type": "code",
   "execution_count": null,
   "metadata": {},
   "outputs": [],
   "source": [
    "tmp = pm.summary(trace_c)\n",
    "tmp"
   ]
  },
  {
   "cell_type": "code",
   "execution_count": null,
   "metadata": {},
   "outputs": [],
   "source": [
    "dfi.export(tmp.style.background_gradient(), 'df_m1.png')"
   ]
  },
  {
   "cell_type": "code",
   "execution_count": null,
   "metadata": {},
   "outputs": [],
   "source": [
    "ChimpTrace = trace_c"
   ]
  },
  {
   "cell_type": "code",
   "execution_count": null,
   "metadata": {},
   "outputs": [],
   "source": [
    "from scipy.special import expit as logistic\n",
    "az.plot_forest(ChimpTrace, var_names=['Actor'], transform=logistic, combined=True)\n",
    "plt.tight_layout()\n",
    "plt.savefig('m1forest.jpg',dpi=300);"
   ]
  },
  {
   "cell_type": "markdown",
   "metadata": {},
   "source": [
    "From this, we can see that various chimps have various levels of handedness, with one chimp only ever pulling the left lever. \n",
    "\n",
    "Let's move on to the treatments:\n"
   ]
  },
  {
   "cell_type": "code",
   "execution_count": null,
   "metadata": {},
   "outputs": [],
   "source": [
    "az.plot_forest(ChimpTrace,var_names=['Treatment'])\n",
    "plt.axvline(0)\n",
    "plt.tight_layout()\n",
    "plt.savefig('m1forest2.jpg',dpi=300);"
   ]
  },
  {
   "cell_type": "markdown",
   "metadata": {},
   "source": [
    "From this we can see that, while there are slight differences between R/N vs R/P and L/N vs L/P, they're pretty small, with considerable overlap for L and some overlap in R. We can also look at this in terms of absolute differences:\n"
   ]
  },
  {
   "cell_type": "code",
   "execution_count": null,
   "metadata": {},
   "outputs": [],
   "source": [
    "# Grab posteriors, index by 0 to grab first of 4 chains\n",
    "tmp = trace_c.posterior['Treatment'][0].T.values"
   ]
  },
  {
   "cell_type": "code",
   "execution_count": null,
   "metadata": {},
   "outputs": [],
   "source": [
    "plt.hist(tmp[0]-tmp[2])\n",
    "plt.axvline(0,c='red',lw=4)\n",
    "plt.title('Right P(effect)=R/N-R/P='+str(sum((tmp[0]-tmp[2])>0)/len(tmp[0])))\n",
    "plt.savefig('m1RT.jpg',dpi=300);"
   ]
  },
  {
   "cell_type": "code",
   "execution_count": null,
   "metadata": {},
   "outputs": [],
   "source": [
    "plt.hist(tmp[1]-tmp[3])\n",
    "plt.axvline(0,c='red',lw=4)\n",
    "plt.title('Left P(effect)=L/N-L/P='+str(sum((tmp[1]-tmp[3])>0)/len(tmp[0])))\n",
    "plt.savefig('m1LT.jpg',dpi=300);"
   ]
  },
  {
   "cell_type": "markdown",
   "metadata": {},
   "source": [
    "So both have more density above zero, suggestive of an effect, with stronger evidence among right handers. However these differences are N-P (no one there - another chimp there) which means chimps are slighly less likey to pull the left or right levers when there is someone on the other side. Jerks.\n",
    "\n",
    "To see what our model actually does here, we can push our estimates back through the model and output the expectations for each chimp; first a look at the data itself:"
   ]
  },
  {
   "cell_type": "code",
   "execution_count": null,
   "metadata": {},
   "outputs": [],
   "source": [
    "# Set figure size\n",
    "plt.figure(figsize=(10, 3))\n",
    "oset = 1\n",
    "for i in range(7):\n",
    "    # Grab chimp\n",
    "    l = L[Ia==i]\n",
    "    t = It[Ia==i]\n",
    "    # Grab data for each treatment\n",
    "    rn = np.mean(l[t==0])\n",
    "    ln = np.mean(l[t==1])\n",
    "    rp = np.mean(l[t==2])\n",
    "    lp = np.mean(l[t==3])\n",
    "    # Plot rights\n",
    "    plt.plot((oset,oset+2),(rn,rp),c='b',zorder=0)\n",
    "    if i==0:\n",
    "        plt.scatter(oset,rn, facecolors='white', edgecolors='b', label='Alone')\n",
    "        plt.scatter(oset+2,rp, facecolors='b', edgecolors='b', label='Partner')\n",
    "    else:\n",
    "        plt.scatter(oset,rn, facecolors='white', edgecolors='b')\n",
    "        plt.scatter(oset+2,rp, facecolors='b', edgecolors='b')\n",
    "    # Plot lefts\n",
    "    plt.plot((oset+1,oset+3),(ln,lp),c='b',zorder=0)\n",
    "    plt.scatter(oset+1,ln, facecolors='white', edgecolors='b')\n",
    "    plt.scatter(oset+3,lp, facecolors='b', edgecolors='b')\n",
    "    oset += 4\n",
    "[plt.axvline(x+0.5, c='grey') for x in [4,8,12,16,20,24]]\n",
    "[plt.text(x-3+0.5,1.1,'Actor '+str(int(x/4))) for x in [4,8,12,16,20,24,28]]\n",
    "plt.axhline(0.5,linestyle='--',c='grey')\n",
    "plt.tick_params(bottom=False, labelbottom=False)\n",
    "plt.legend()\n",
    "plt.savefig('data.jpg',dpi=300);"
   ]
  },
  {
   "cell_type": "markdown",
   "metadata": {},
   "source": [
    "Next, what the model actually sees:"
   ]
  },
  {
   "cell_type": "code",
   "execution_count": null,
   "metadata": {},
   "outputs": [],
   "source": [
    "a_trace = trace_c.posterior['Actor'][0].T\n",
    "t_trace = trace_c.posterior['Treatment'][0].T"
   ]
  },
  {
   "cell_type": "code",
   "execution_count": null,
   "metadata": {},
   "outputs": [],
   "source": [
    "# Grab effects sizes for each treatment\n",
    "t1 = t_trace[0]\n",
    "t2 = t_trace[1]\n",
    "t3 = t_trace[2]\n",
    "t4 = t_trace[3]\n",
    "\n",
    "# Set figure size\n",
    "plt.figure(figsize=(10, 3))\n",
    "oset = 1\n",
    "for i in range(7):\n",
    "    # Grab chimp intercept\n",
    "    l = a_trace[i]\n",
    "    # Calculate individual effects\n",
    "    rn = np.median(invlogit(l+t1))\n",
    "    rn2 = np.std(invlogit(l+t1))*2\n",
    "    ln = np.median(invlogit(l+t2))\n",
    "    ln2 = np.std(invlogit(l+t2))*2\n",
    "    rp = np.median(invlogit(l+t3))\n",
    "    rp2 = np.std(invlogit(l+t3))*2\n",
    "    lp = np.median(invlogit(l+t4))\n",
    "    lp2 = np.std(invlogit(l+t4))*2\n",
    "    \n",
    "    # Plot rights\n",
    "    plt.plot((oset,oset+2),(rn,rp),c='b',zorder=0)\n",
    "    plt.plot((oset,oset),(rn-rn2,rn+rn2),c='black',zorder=0)\n",
    "    plt.plot((oset+2,oset+2),(rp-rp2,rp+rp2),c='black',zorder=0)\n",
    "\n",
    "    plt.scatter(oset,rn, facecolors='white', edgecolors='b')\n",
    "    plt.scatter(oset+2,rp, facecolors='b', edgecolors='b')\n",
    "    \n",
    "    # Plot lefts\n",
    "    plt.plot((oset+1,oset+3),(ln,lp),c='b',zorder=0)\n",
    "    plt.plot((oset+1,oset+1),(ln-ln2,ln+ln2),c='black',zorder=0)\n",
    "    plt.plot((oset+3,oset+3),(lp-lp2,lp+lp2),c='black',zorder=0)\n",
    "    plt.scatter(oset+1,ln, facecolors='white', edgecolors='b')\n",
    "    plt.scatter(oset+3,lp, facecolors='b', edgecolors='b')\n",
    "    oset += 4\n",
    "[plt.axvline(x+0.5, c='grey') for x in [4,8,12,16,20,24]]\n",
    "[plt.text(x-3+0.5,1.1,'Actor '+str(int(x/4))) for x in [4,8,12,16,20,24,28]]\n",
    "plt.axhline(0.5,linestyle='--',c='grey')\n",
    "plt.tick_params(bottom=False, labelbottom=False)\n",
    "plt.savefig('model.jpg',dpi=300);"
   ]
  },
  {
   "cell_type": "markdown",
   "metadata": {},
   "source": [
    "These results should convey two things:\n",
    "1. That the differences in handedness among chimps is the strongest effect\n",
    "2. That the model as written assumes very little effect when the partner is added (filled circles)\n",
    "\n",
    "We'll revisit this model later on when we look at multilevel models."
   ]
  },
  {
   "cell_type": "markdown",
   "metadata": {},
   "source": [
    "# Proportional odds\n",
    "\n",
    "The results above give us absolute probabilites for each chimp pulling the left lever when the partner is present, but what about the relative change? These are called proportional odds and can be calculated very simply with a per unit increase in $x$, in other words the coefficient for the addition of a partner:\n",
    "\n",
    "$$\n",
    "\\frac{exp(\\beta_0+\\beta_1(x_i+1))}{exp(\\beta_0+\\beta_1(x_i))}\n",
    "$$\n",
    "\n",
    "which, with a bit of algebra reduces down to\n",
    "\n",
    "$$\n",
    "\\frac{exp(\\beta_0)exp(\\beta_1 x_i)exp(\\beta_1)}{exp(\\beta_0)exp(\\beta_1 x_i)} = exp(\\beta_1)\n",
    "$$\n",
    "\n",
    "For the chimps model, adding a partner is given by the difference between coefficients estimated in the treatment node of our model:"
   ]
  },
  {
   "cell_type": "code",
   "execution_count": null,
   "metadata": {},
   "outputs": [],
   "source": [
    "# Right hand\n",
    "RHpo = np.exp(t3-t1).values\n",
    "plt.hist(RHpo)\n",
    "plt.axvline(1,c='red',lw=4)\n",
    "plt.title('Proportional odds (R) = '+str(np.round(np.mean(RHpo),2)))\n",
    "plt.savefig('m1RTpo.jpg',dpi=300);"
   ]
  },
  {
   "cell_type": "code",
   "execution_count": null,
   "metadata": {},
   "outputs": [],
   "source": [
    "# Left hand\n",
    "LHpo = np.exp(t4-t2).values\n",
    "plt.hist(LHpo)\n",
    "plt.axvline(1,c='red',lw=4)\n",
    "plt.title('Proportional odds (L) = '+str(np.round(np.mean(LHpo),2)))\n",
    "plt.savefig('m1LTpo.jpg',dpi=300);"
   ]
  },
  {
   "cell_type": "markdown",
   "metadata": {},
   "source": [
    "So in both cases, adding a partner to a particular side reduces the odds of pulling that lever."
   ]
  },
  {
   "cell_type": "markdown",
   "metadata": {},
   "source": [
    "# Aggregated binomial\n",
    "\n",
    "While these data analyzsed so far are raw values for pulling the left lever (0/1), binomials are about numbers of successes in a given number of trials. As such, provided there is nothing special about the order of things, we can condense the data into a table of successes:"
   ]
  },
  {
   "cell_type": "code",
   "execution_count": null,
   "metadata": {},
   "outputs": [],
   "source": [
    "# Add side covariate\n",
    "cdata['side'] = np.array(['right','left'])[cdata.prosoc_left]\n",
    "# Label treatments\n",
    "cdata['treatment'] = np.array(['RN','LN','RP','LP'])[cdata.treatment.values-1]\n",
    "# Partner present\n",
    "cdata['partner'] = cdata.condition"
   ]
  },
  {
   "cell_type": "code",
   "execution_count": null,
   "metadata": {},
   "outputs": [],
   "source": [
    "cdata.head()"
   ]
  },
  {
   "cell_type": "code",
   "execution_count": null,
   "metadata": {},
   "outputs": [],
   "source": [
    "cdata2 = pd.pivot_table(cdata, values='pulled_left', index=['side','actor','treatment','partner'], aggfunc=np.sum).reset_index()"
   ]
  },
  {
   "cell_type": "code",
   "execution_count": null,
   "metadata": {},
   "outputs": [],
   "source": [
    "dfi.export(cdata2.head(), 'aggdata.png')\n",
    "cdata2.head()"
   ]
  },
  {
   "cell_type": "code",
   "execution_count": null,
   "metadata": {},
   "outputs": [],
   "source": [
    "# Grab data\n",
    "# Number of left pulls\n",
    "L = cdata2.pulled_left.values\n",
    "# Individual chimps\n",
    "Actor,Ia = indexall(cdata2.actor.values)\n",
    "Chimp = ['Chimp '+str(a) for a in Actor]\n",
    "nchimps = len(Actor)\n",
    "# Treatment\n",
    "Treatment,It = indexall(cdata2.treatment.values)\n",
    "ntreat = len(Treatment)"
   ]
  },
  {
   "cell_type": "code",
   "execution_count": null,
   "metadata": {},
   "outputs": [],
   "source": [
    "with pm.Model(coords={'Chimp':Chimp, 'Treat': Treatment}) as Chimps2:\n",
    "    # Individual intercepts\n",
    "    β0 = pm.Normal('Actor', 0, 1.7, dims='Chimp')\n",
    "    # Treatment effects\n",
    "    β1 = pm.Normal('Treatment', 0, 0.25, dims='Treat')\n",
    "\n",
    "    # Linear model\n",
    "    p = pm.invlogit(β0[Ia]+β1[It])\n",
    "\n",
    "    # Likelihood\n",
    "    Yi = pm.Binomial('Yi', 18, p, observed=L)"
   ]
  },
  {
   "cell_type": "code",
   "execution_count": null,
   "metadata": {},
   "outputs": [],
   "source": [
    "with Chimps2:\n",
    "    trace_c2 = pm.sample(1000, idata_kwargs={\"log_likelihood\": True})"
   ]
  },
  {
   "cell_type": "code",
   "execution_count": null,
   "metadata": {},
   "outputs": [],
   "source": [
    "tmp2 = pm.summary(trace_c2)\n",
    "dfi.export(tmp2.style.background_gradient(), 'df_m2.png')\n",
    "tmp2"
   ]
  },
  {
   "cell_type": "code",
   "execution_count": null,
   "metadata": {},
   "outputs": [],
   "source": [
    "axes = az.plot_forest(\n",
    "    [trace_c, trace_c2], model_names=[\"Raw\", \"Aggregated\"], var_names=[\"Actor\"])\n",
    "plt.tight_layout()\n",
    "plt.savefig('chimps_models_actor.jpg',dpi=300);"
   ]
  },
  {
   "cell_type": "code",
   "execution_count": null,
   "metadata": {},
   "outputs": [],
   "source": [
    "axes = az.plot_forest(\n",
    "    [trace_c, trace_c2], model_names=[\"Raw\", \"Aggregated\"], var_names=[\"Treatment\"])\n",
    "plt.tight_layout()\n",
    "plt.savefig('chimps_models_treat.jpg',dpi=300);"
   ]
  },
  {
   "cell_type": "code",
   "execution_count": null,
   "metadata": {},
   "outputs": [],
   "source": [
    "raw_loo = pm.loo(trace_c, Chimps)\n",
    "agg_loo = pm.loo(trace_c2, Chimps2)"
   ]
  },
  {
   "cell_type": "code",
   "execution_count": null,
   "metadata": {},
   "outputs": [],
   "source": [
    "pm.waic?"
   ]
  },
  {
   "cell_type": "code",
   "execution_count": null,
   "metadata": {},
   "outputs": [],
   "source": [
    "raw_waic = pm.waic(trace_c, scale='deviance', pointwise=True)\n",
    "agg_waic = pm.waic(trace_c2, scale='deviance', pointwise=True)"
   ]
  },
  {
   "cell_type": "code",
   "execution_count": null,
   "metadata": {},
   "outputs": [],
   "source": [
    "raw_waic"
   ]
  },
  {
   "cell_type": "code",
   "execution_count": null,
   "metadata": {},
   "outputs": [],
   "source": [
    "agg_waic.waic_i"
   ]
  },
  {
   "cell_type": "code",
   "execution_count": null,
   "metadata": {},
   "outputs": [],
   "source": [
    "tmp = raw_loo\n",
    "tmp"
   ]
  },
  {
   "cell_type": "code",
   "execution_count": null,
   "metadata": {},
   "outputs": [],
   "source": [
    "tmp2 = agg_loo\n",
    "tmp2"
   ]
  },
  {
   "cell_type": "code",
   "execution_count": null,
   "metadata": {},
   "outputs": [],
   "source": [
    "np.array(Actor)[Ia[agg_loo.pareto_k.values>0.5]]"
   ]
  },
  {
   "cell_type": "code",
   "execution_count": null,
   "metadata": {},
   "outputs": [],
   "source": [
    "agg_loo.pareto_k.values>0.5"
   ]
  },
  {
   "cell_type": "code",
   "execution_count": null,
   "metadata": {},
   "outputs": [],
   "source": [
    "loofail = cdata2.iloc[agg_loo.pareto_k.values>0.5,]\n",
    "dfi.export(loofail.style.background_gradient(), 'kgt05.png')\n",
    "loofail"
   ]
  },
  {
   "cell_type": "markdown",
   "metadata": {},
   "source": [
    "This is interesting, but it's hard to see why these particular datapoints are failing - let's plot them to see:"
   ]
  },
  {
   "cell_type": "code",
   "execution_count": null,
   "metadata": {},
   "outputs": [],
   "source": [
    "# Set figure size\n",
    "plt.figure(figsize=(10, 3))\n",
    "oset = 1\n",
    "for i in range(7):\n",
    "    # Grab chimp\n",
    "    l = L[Ia==i]\n",
    "    t = It[Ia==i]\n",
    "    # Grab data for each treatment\n",
    "    rn = l[t==0]/18\n",
    "    ln = l[t==2]/18\n",
    "    rp = l[t==1]/18\n",
    "    lp = l[t==3]/18\n",
    "    # Grab k value fails\n",
    "    lf2 = loofail.iloc[loofail.actor.values==np.array(Actor)[i]]\n",
    "    # Plot rights\n",
    "    if i==0:\n",
    "        plt.plot((oset,oset+2),(rn,rp),c='b',zorder=0, label='Alone')\n",
    "        plt.scatter(oset,rn, facecolors='white', edgecolors='b', label='Partner')\n",
    "    else:\n",
    "        plt.plot((oset,oset+2),(rn,rp),c='b',zorder=0)\n",
    "        plt.scatter(oset,rn, facecolors='white', edgecolors='b')\n",
    "    if 'RN' in lf2.treatment.values:\n",
    "        plt.scatter(oset,rn, facecolors='white', edgecolors='r')\n",
    "    plt.scatter(oset+2,rp, facecolors='b', edgecolors='b')\n",
    "    if 'RP' in lf2.treatment.values:\n",
    "        plt.scatter(oset+2,rp, facecolors='r', edgecolors='r')\n",
    "    # Plot lefts\n",
    "    plt.plot((oset+1,oset+3),(ln,lp),c='b',zorder=0)\n",
    "    plt.scatter(oset+1,ln, facecolors='white', edgecolors='b')\n",
    "    if 'LN' in lf2.treatment.values:\n",
    "        plt.scatter(oset+1,ln, facecolors='white', edgecolors='r')\n",
    "    plt.scatter(oset+3,lp, facecolors='b', edgecolors='b')\n",
    "    if 'LP' in lf2.treatment.values:\n",
    "        plt.scatter(oset+3,lp, facecolors='r', edgecolors='r')\n",
    "    oset += 4\n",
    "[plt.axvline(x+0.5, c='grey') for x in [4,8,12,16,20,24]]\n",
    "[plt.text(x-3+0.5,1.1,'Actor '+str(int(x/4))) for x in [4,8,12,16,20,24,28]]\n",
    "plt.axhline(0.5,linestyle='--',c='grey')\n",
    "plt.tick_params(bottom=False, labelbottom=False)\n",
    "plt.legend()\n",
    "plt.savefig('aggdata.jpg',dpi=300);"
   ]
  },
  {
   "cell_type": "markdown",
   "metadata": {},
   "source": [
    "So by using the aggregrated case, we have collapsed the data by a factor of 18 (the actor by treatment observations), and this makes it harder to fit out of sample. Rather than doing 'leave one out' cross-validation, it's more like 'leave 18 out' cross validation."
   ]
  },
  {
   "cell_type": "markdown",
   "metadata": {},
   "source": [
    "# Aggregated admissions\n",
    "\n",
    "Here is an example of aggregated regression from UC Berkeley, a classic example looking at gender bias in admissions. First, import the data "
   ]
  },
  {
   "cell_type": "code",
   "execution_count": null,
   "metadata": {},
   "outputs": [],
   "source": [
    "bdata = pd.read_csv('UCBadmit.csv',sep=\";\")\n",
    "bdata['gender'] = bdata['applicant.gender']\n",
    "dfi.export(bdata.style.background_gradient(), 'UCBadmit.png')\n",
    "bdata"
   ]
  },
  {
   "cell_type": "markdown",
   "metadata": {},
   "source": [
    "The question here is **is there systematic bias against female applicants at UC Berkeley?** If we look at the proportions admitted by sex"
   ]
  },
  {
   "cell_type": "code",
   "execution_count": null,
   "metadata": {},
   "outputs": [],
   "source": [
    "bdata.admit[bdata.gender=='female'].sum()/bdata.applications[bdata.gender=='female'].sum()"
   ]
  },
  {
   "cell_type": "code",
   "execution_count": null,
   "metadata": {},
   "outputs": [],
   "source": [
    "bdata.admit[bdata.gender=='male'].sum()/bdata.applications[bdata.gender=='male'].sum()"
   ]
  },
  {
   "cell_type": "markdown",
   "metadata": {},
   "source": [
    "So this looks bad - 14% more accepted males to accepted females, and at liberal-old Berkeley! Let's build a model to estimate the level of this effect:"
   ]
  },
  {
   "cell_type": "code",
   "execution_count": null,
   "metadata": {},
   "outputs": [],
   "source": [
    "# Response\n",
    "A = bdata.admit.values\n",
    "N = bdata.applications.values\n",
    "\n",
    "# Sex\n",
    "Sex_,Is = indexall(bdata.gender.values)"
   ]
  },
  {
   "cell_type": "code",
   "execution_count": null,
   "metadata": {},
   "outputs": [],
   "source": [
    "with pm.Model(coords={'Sex_':Sex_}) as Admit:\n",
    "    # log-odds of admission by sex\n",
    "    β0 = pm.Normal('Sex', 0, 1.7, dims='Sex_')\n",
    "\n",
    "    # Linear model\n",
    "    p = pm.invlogit(β0[Is])\n",
    "\n",
    "    # Likelihood\n",
    "    Yi = pm.Binomial('Yi', N, p, observed=A)"
   ]
  },
  {
   "cell_type": "code",
   "execution_count": null,
   "metadata": {},
   "outputs": [],
   "source": [
    "with Admit:\n",
    "    trace_ba = pm.sample(1000)"
   ]
  },
  {
   "cell_type": "code",
   "execution_count": null,
   "metadata": {},
   "outputs": [],
   "source": [
    "pm.summary(trace_ba)"
   ]
  },
  {
   "cell_type": "markdown",
   "metadata": {},
   "source": [
    "Calculate the probability of admission by sex"
   ]
  },
  {
   "cell_type": "code",
   "execution_count": null,
   "metadata": {},
   "outputs": [],
   "source": [
    "invlogit(trace_ba.posterior['Sex'][0].T).mean(axis=1).values"
   ]
  },
  {
   "cell_type": "markdown",
   "metadata": {},
   "source": [
    "Which is just what we saw with the raw values. What's the difference in probability?"
   ]
  },
  {
   "cell_type": "code",
   "execution_count": null,
   "metadata": {},
   "outputs": [],
   "source": [
    "diff = (invlogit(trace_ba.posterior['Sex'][0].values.T[0])-invlogit(trace_ba.posterior['Sex'][0].values.T[1]))\n",
    "np.mean(diff)"
   ]
  },
  {
   "cell_type": "code",
   "execution_count": null,
   "metadata": {},
   "outputs": [],
   "source": [
    "plt.hist(diff)\n",
    "plt.axvline(0,c='red',lw=4)\n",
    "plt.title('Berkeley Male vs Female acceptance probability')\n",
    "plt.savefig('rawrates.jpg',dpi=300);"
   ]
  },
  {
   "cell_type": "markdown",
   "metadata": {},
   "source": [
    "So the 14% we saw earlier. Now let's push these back through the model and see how our predictions look (i.e. the **most important model check**):"
   ]
  },
  {
   "cell_type": "code",
   "execution_count": null,
   "metadata": {},
   "outputs": [],
   "source": [
    "for i in range(6):\n",
    "    # Male/female per department\n",
    "    x = 1 + 2 * i\n",
    "    \n",
    "    # Plot data\n",
    "    y1 = bdata.admit[x] / bdata.applications[x]\n",
    "    y2 = bdata.admit[x+1] / bdata.applications[x+1]\n",
    "    if i==5:\n",
    "        plt.plot([x, x+1], [y1, y2], '-C0o', lw=2, label='Data')\n",
    "    else:\n",
    "        plt.plot([x, x+1], [y1, y2], '-C0o', lw=2)\n",
    "    plt.text(x + 0.25, (y1+y2)/2 + 0.05, bdata.dept[x])\n",
    "    \n",
    "    # Model predictions male\n",
    "    pmale = invlogit(trace_ba.posterior['Sex'][0].values.T[0])\n",
    "    ynew1 = np.quantile(pmale,0.5)\n",
    "    ynew1_lo = np.quantile(pmale,0.05)\n",
    "    ynew1_hi = np.quantile(pmale,0.95)\n",
    "    # Model predictions female\n",
    "    pfemale = invlogit(trace_ba.posterior['Sex'][0].values.T[1])\n",
    "    ynew2 = np.quantile(pfemale,0.5)\n",
    "    ynew2_lo = np.quantile(pfemale,0.025)\n",
    "    ynew2_hi = np.quantile(pfemale,0.975)\n",
    "    \n",
    "    if i==5:\n",
    "        plt.scatter([x, x+1], [ynew1,ynew2], c='black',label='Model')\n",
    "        plt.plot([x, x+1], [ynew1,ynew2], c='grey')\n",
    "        plt.plot([x,x],[ynew1_lo,ynew1_hi],c='black')\n",
    "        plt.plot([x+1,x+1],[ynew2_lo,ynew2_hi],c='black')\n",
    "    else:\n",
    "        plt.scatter([x, x+1], [ynew1,ynew2], c='black')\n",
    "        plt.plot([x, x+1], [ynew1,ynew2], c='grey')\n",
    "        plt.plot([x,x],[ynew1_lo,ynew1_hi],c='black')\n",
    "        plt.plot([x+1,x+1],[ynew2_lo,ynew2_hi],c='black')\n",
    "    \n",
    "plt.ylim(0, 1)\n",
    "plt.ylabel('Acceptance rate')\n",
    "plt.xlabel('Department')\n",
    "plt.legend()\n",
    "plt.savefig('rawmodelfit.jpg',dpi=300);"
   ]
  },
  {
   "cell_type": "markdown",
   "metadata": {},
   "source": [
    "These are pretty shithouse predictions - and of course this example is classic because it is an example of Simpson's paradox. The key being to include a covariate for department - departments have wildly differing admission rates and depending on the numbers of male and female applications to each department, we can see bias where none exists. Let's run another model that handles all this:"
   ]
  },
  {
   "cell_type": "code",
   "execution_count": null,
   "metadata": {},
   "outputs": [],
   "source": [
    "# Department\n",
    "Dept_,Id = indexall(bdata.dept.values)"
   ]
  },
  {
   "cell_type": "code",
   "execution_count": null,
   "metadata": {},
   "outputs": [],
   "source": [
    "with pm.Model(coords={'Sex_':Sex_, 'Dept_':Dept_}) as AdmitD:\n",
    "    # log-odds of admission by sex\n",
    "    β0 = pm.Normal('Sex', 0, 1.7, dims='Sex_')\n",
    "    # log-odds of admission by department\n",
    "    β1 = pm.Normal('Department', 0, 1.7, dims='Dept_')\n",
    "\n",
    "    # Linear model\n",
    "    p = pm.invlogit(β0[Is]+β1[Id])\n",
    "\n",
    "    # Likelihood\n",
    "    Yi = pm.Binomial('Yi', N, p, observed=A)"
   ]
  },
  {
   "cell_type": "code",
   "execution_count": null,
   "metadata": {},
   "outputs": [],
   "source": [
    "with AdmitD:\n",
    "    trace_bad = pm.sample(1000)"
   ]
  },
  {
   "cell_type": "code",
   "execution_count": null,
   "metadata": {},
   "outputs": [],
   "source": [
    "pm.plot_forest(trace_bad)\n",
    "plt.tight_layout()\n",
    "plt.savefig('rightmodel.jpg',dpi=300);"
   ]
  },
  {
   "cell_type": "markdown",
   "metadata": {},
   "source": [
    "So the difference between sexes disappears, and males are accepted at slightly lower rates. We can use our DAG-building skills to see why:"
   ]
  },
  {
   "cell_type": "code",
   "execution_count": null,
   "metadata": {},
   "outputs": [],
   "source": [
    "G = nx.DiGraph([('S','D'), ('D','A'), ('S','A')])\n",
    "\n",
    "options = {\n",
    "    \"font_size\": 36,\n",
    "    \"node_size\": 3000,\n",
    "    \"node_color\": \"white\",\n",
    "    \"edgecolors\": \"black\",\n",
    "    \"linewidths\": 5,\n",
    "    \"width\": 4,\n",
    "}\n",
    "nx.draw_networkx(G, **options)\n",
    "ax = plt.gca()\n",
    "ax.margins(0.20)\n",
    "plt.axis(\"off\")\n",
    "plt.savefig('UCB_dag.jpg',dpi=300);"
   ]
  },
  {
   "cell_type": "markdown",
   "metadata": {},
   "source": [
    "Let's see what the model sees now:"
   ]
  },
  {
   "cell_type": "code",
   "execution_count": null,
   "metadata": {},
   "outputs": [],
   "source": [
    "for i in range(6):\n",
    "    # Male/female per department\n",
    "    x = 1 + 2 * i\n",
    "    \n",
    "    # Plot data\n",
    "    y1 = bdata.admit[x] / bdata.applications[x]\n",
    "    y2 = bdata.admit[x+1] / bdata.applications[x+1]\n",
    "    if i==5:\n",
    "        plt.plot([x, x+1], [y1, y2], '-C0o', lw=2, label='Data')\n",
    "    else:\n",
    "        plt.plot([x, x+1], [y1, y2], '-C0o', lw=2)\n",
    "    plt.text(x + 0.25, (y1+y2)/2 + 0.05, bdata.dept[x])\n",
    "    \n",
    "    # Model parameters\n",
    "    bmale = trace_bad.posterior['Sex'][0].values.T[0].mean()\n",
    "    bfemale = trace_bad.posterior['Sex'][0].values.T[0].mean()\n",
    "    bdept = trace_bad.posterior['Department'][0].values.T[i].mean()\n",
    "    ynew1 = invlogit(bmale+bdept)\n",
    "    ynew2 = invlogit(bfemale+bdept)\n",
    "    \n",
    "    if i==5:\n",
    "        plt.scatter([x, x+1], [ynew1,ynew2], c='black', label='Model')\n",
    "    else:\n",
    "        plt.scatter([x, x+1], [ynew1,ynew2], c='black')\n",
    "    plt.plot([x, x+1], [ynew1,ynew2], c='grey')\n",
    "    \n",
    "plt.ylim(0, 1)\n",
    "plt.ylabel('Acceptance rate')\n",
    "plt.xlabel('Department')\n",
    "plt.legend()\n",
    "plt.savefig('rightmodelfit.jpg',dpi=300);"
   ]
  },
  {
   "cell_type": "markdown",
   "metadata": {},
   "source": [
    "Doing better, but that Department A suggests much higher acceptance rates for females, something to be modelled later perhaps."
   ]
  },
  {
   "cell_type": "code",
   "execution_count": null,
   "metadata": {},
   "outputs": [],
   "source": []
  },
  {
   "cell_type": "code",
   "execution_count": null,
   "metadata": {},
   "outputs": [],
   "source": []
  },
  {
   "cell_type": "code",
   "execution_count": null,
   "metadata": {},
   "outputs": [],
   "source": []
  },
  {
   "cell_type": "code",
   "execution_count": null,
   "metadata": {},
   "outputs": [],
   "source": []
  },
  {
   "cell_type": "code",
   "execution_count": null,
   "metadata": {},
   "outputs": [],
   "source": []
  },
  {
   "cell_type": "code",
   "execution_count": null,
   "metadata": {},
   "outputs": [],
   "source": []
  },
  {
   "cell_type": "code",
   "execution_count": null,
   "metadata": {},
   "outputs": [],
   "source": []
  },
  {
   "cell_type": "code",
   "execution_count": null,
   "metadata": {},
   "outputs": [],
   "source": []
  }
 ],
 "metadata": {
  "kernelspec": {
   "display_name": "Python 3 (ipykernel)",
   "language": "python",
   "name": "python3"
  },
  "language_info": {
   "codemirror_mode": {
    "name": "ipython",
    "version": 3
   },
   "file_extension": ".py",
   "mimetype": "text/x-python",
   "name": "python",
   "nbconvert_exporter": "python",
   "pygments_lexer": "ipython3",
   "version": "3.11.6"
  }
 },
 "nbformat": 4,
 "nbformat_minor": 4
}
