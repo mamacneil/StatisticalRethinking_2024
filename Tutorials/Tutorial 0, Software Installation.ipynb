{
 "cells": [
  {
   "metadata": {},
   "cell_type": "markdown",
   "source": [
    "#### 1. Conda (Command Line environment manager for Python)\n",
    "\n",
    "https://conda.io/projects/conda/en/latest/user-guide/install/index.html"
   ],
   "id": "4260efe649791804"
  },
  {
   "metadata": {},
   "cell_type": "markdown",
   "source": [
    "#### 2. Create environment\n",
    "\n",
    "https://conda.io/projects/conda/en/latest/user-guide/tasks/manage-environments.html"
   ],
   "id": "f4d9049ae4533f27"
  },
  {
   "metadata": {},
   "cell_type": "markdown",
   "source": [
    "#### 3. Activate environment\n",
    "\n",
    "https://conda.io/projects/conda/en/latest/user-guide/tasks/manage-environments.html#activating-an-environment"
   ],
   "id": "95b3c9891a81fade"
  },
  {
   "metadata": {},
   "cell_type": "markdown",
   "source": [
    "#### 4. Install packages into environment: jupyter, pymc, arviz\n",
    "\n",
    "https://conda.io/projects/conda/en/latest/user-guide/tasks/manage-pkgs.html#installing-packages"
   ],
   "id": "d2348c8c6d83e4d2"
  },
  {
   "metadata": {},
   "cell_type": "markdown",
   "source": [
    "#### 5. Run jupyter, create notebook and test\n",
    "\n",
    "- In your activated environment, run 'jupyter'"
   ],
   "id": "180e50f370319c90"
  },
  {
   "metadata": {},
   "cell_type": "code",
   "source": [
    "# Test Code\n",
    "import numpy as np\n",
    "import pandas as pd\n",
    "import pymc as pm\n",
    "import arviz as az\n",
    "\n",
    "with pm.Model() as test_model:\n",
    "    sigma = pm.Exponential('sigma', 1) # sigma prior\n",
    "    mu = pm.Normal('mean', 0, 1) # mu prior\n",
    "    y = pm.Normal('y', mu, sigma, observed=np.arange(-1,1)) # data likelihood\n",
    "    idata = pm.sample() # sample from posterior\n",
    "\n",
    "az.summary(idata)"
   ],
   "id": "15c43fd9a62fdd82",
   "outputs": [],
   "execution_count": null
  }
 ],
 "metadata": {
  "kernelspec": {
   "display_name": "Python 3",
   "language": "python",
   "name": "python3"
  },
  "language_info": {
   "codemirror_mode": {
    "name": "ipython",
    "version": 2
   },
   "file_extension": ".py",
   "mimetype": "text/x-python",
   "name": "python",
   "nbconvert_exporter": "python",
   "pygments_lexer": "ipython2",
   "version": "2.7.6"
  }
 },
 "nbformat": 4,
 "nbformat_minor": 5
}
