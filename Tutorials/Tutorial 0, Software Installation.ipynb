{
 "cells": [
  {
   "metadata": {},
   "cell_type": "markdown",
   "source": [
    "#### 1. Conda (Command Line environment manager for Python)\n",
    "\n",
    "https://conda.io/projects/conda/en/latest/user-guide/getting-started.html"
   ],
   "id": "4260efe649791804"
  },
  {
   "metadata": {},
   "cell_type": "markdown",
   "source": [
    "#### 2. Create environment\n",
    "\n",
    "https://conda.io/projects/conda/en/latest/user-guide/tasks/manage-environments.html"
   ],
   "id": "f4d9049ae4533f27"
  },
  {
   "metadata": {},
   "cell_type": "markdown",
   "source": [
    "#### 3. Activate environment\n",
    "\n",
    "https://conda.io/projects/conda/en/latest/user-guide/tasks/manage-environments.html#activating-an-environment"
   ],
   "id": "95b3c9891a81fade"
  },
  {
   "metadata": {},
   "cell_type": "markdown",
   "source": [
    "#### 4. Install packages into environment: jupyter, pymc, arviz\n",
    "\n",
    "https://conda.io/projects/conda/en/latest/user-guide/tasks/manage-pkgs.html#installing-packages"
   ],
   "id": "d2348c8c6d83e4d2"
  },
  {
   "metadata": {},
   "cell_type": "markdown",
   "source": [
    "#### 5. Run jupyter, create notebook and test\n",
    "\n",
    "- In your activated environment, run 'jupyter'"
   ],
   "id": "180e50f370319c90"
  },
  {
   "metadata": {
    "ExecuteTime": {
     "end_time": "2024-09-09T14:27:02.929192Z",
     "start_time": "2024-09-09T14:26:54.317328Z"
    }
   },
   "cell_type": "code",
   "source": [
    "# Test Code\n",
    "import numpy as np\n",
    "import pandas as pd\n",
    "import pymc as pm\n",
    "import arviz as az\n",
    "\n",
    "with pm.Model() as test_model:\n",
    "    sigma = pm.Exponential('sigma', 1) # sigma prior\n",
    "    mu = pm.Normal('mean', 0, 1) # mu prior\n",
    "    y = pm.Normal('y', mu, sigma, observed=np.arange(-1,1)) # data likelihood\n",
    "    idata = pm.sample() # sample from posterior\n",
    "\n",
    "az.summary(idata)"
   ],
   "id": "15c43fd9a62fdd82",
   "outputs": [
    {
     "name": "stderr",
     "output_type": "stream",
     "text": [
      "Auto-assigning NUTS sampler...\n",
      "Initializing NUTS using jitter+adapt_diag...\n",
      "Multiprocess sampling (4 chains in 4 jobs)\n",
      "NUTS: [sigma, mean]\n"
     ]
    },
    {
     "data": {
      "text/plain": [
       "Output()"
      ],
      "application/vnd.jupyter.widget-view+json": {
       "version_major": 2,
       "version_minor": 0,
       "model_id": "f4cafcbb7f5e442e8e4410ed4bf52b43"
      }
     },
     "metadata": {},
     "output_type": "display_data"
    },
    {
     "data": {
      "text/plain": [],
      "text/html": [
       "<pre style=\"white-space:pre;overflow-x:auto;line-height:normal;font-family:Menlo,'DejaVu Sans Mono',consolas,'Courier New',monospace\"></pre>\n"
      ]
     },
     "metadata": {},
     "output_type": "display_data"
    },
    {
     "name": "stderr",
     "output_type": "stream",
     "text": [
      "Sampling 4 chains for 1_000 tune and 1_000 draw iterations (4_000 + 4_000 draws total) took 1 seconds.\n",
      "There were 7 divergences after tuning. Increase `target_accept` or reparameterize.\n"
     ]
    },
    {
     "data": {
      "text/plain": [
       "        mean     sd  hdi_3%  hdi_97%  mcse_mean  mcse_sd  ess_bulk  ess_tail  \\\n",
       "mean  -0.359  0.545  -1.377    0.723      0.015    0.010    1434.0    1604.0   \n",
       "sigma  0.964  0.608   0.234    2.038      0.016    0.011    1235.0    1813.0   \n",
       "\n",
       "       r_hat  \n",
       "mean     1.0  \n",
       "sigma    1.0  "
      ],
      "text/html": [
       "<div>\n",
       "<style scoped>\n",
       "    .dataframe tbody tr th:only-of-type {\n",
       "        vertical-align: middle;\n",
       "    }\n",
       "\n",
       "    .dataframe tbody tr th {\n",
       "        vertical-align: top;\n",
       "    }\n",
       "\n",
       "    .dataframe thead th {\n",
       "        text-align: right;\n",
       "    }\n",
       "</style>\n",
       "<table border=\"1\" class=\"dataframe\">\n",
       "  <thead>\n",
       "    <tr style=\"text-align: right;\">\n",
       "      <th></th>\n",
       "      <th>mean</th>\n",
       "      <th>sd</th>\n",
       "      <th>hdi_3%</th>\n",
       "      <th>hdi_97%</th>\n",
       "      <th>mcse_mean</th>\n",
       "      <th>mcse_sd</th>\n",
       "      <th>ess_bulk</th>\n",
       "      <th>ess_tail</th>\n",
       "      <th>r_hat</th>\n",
       "    </tr>\n",
       "  </thead>\n",
       "  <tbody>\n",
       "    <tr>\n",
       "      <th>mean</th>\n",
       "      <td>-0.359</td>\n",
       "      <td>0.545</td>\n",
       "      <td>-1.377</td>\n",
       "      <td>0.723</td>\n",
       "      <td>0.015</td>\n",
       "      <td>0.010</td>\n",
       "      <td>1434.0</td>\n",
       "      <td>1604.0</td>\n",
       "      <td>1.0</td>\n",
       "    </tr>\n",
       "    <tr>\n",
       "      <th>sigma</th>\n",
       "      <td>0.964</td>\n",
       "      <td>0.608</td>\n",
       "      <td>0.234</td>\n",
       "      <td>2.038</td>\n",
       "      <td>0.016</td>\n",
       "      <td>0.011</td>\n",
       "      <td>1235.0</td>\n",
       "      <td>1813.0</td>\n",
       "      <td>1.0</td>\n",
       "    </tr>\n",
       "  </tbody>\n",
       "</table>\n",
       "</div>"
      ]
     },
     "execution_count": 2,
     "metadata": {},
     "output_type": "execute_result"
    }
   ],
   "execution_count": 2
  },
  {
   "metadata": {},
   "cell_type": "code",
   "outputs": [],
   "execution_count": null,
   "source": "",
   "id": "f6896f34bd1461fd"
  }
 ],
 "metadata": {
  "kernelspec": {
   "display_name": "Python 3",
   "language": "python",
   "name": "python3"
  },
  "language_info": {
   "codemirror_mode": {
    "name": "ipython",
    "version": 2
   },
   "file_extension": ".py",
   "mimetype": "text/x-python",
   "name": "python",
   "nbconvert_exporter": "python",
   "pygments_lexer": "ipython2",
   "version": "2.7.6"
  }
 },
 "nbformat": 4,
 "nbformat_minor": 5
}
