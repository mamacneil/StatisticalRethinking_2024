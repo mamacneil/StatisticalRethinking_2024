{
 "cells": [
  {
   "cell_type": "markdown",
   "metadata": {},
   "source": [
    "# Week 1 Lecture 2 - The garden of forking data\n",
    "\n",
    "\n",
    "Throughout the course we will be using these [Jupyter notebooks](https://jupyter.org/) to develop, run, and share Python code. They work with R also.\n",
    "\n",
    "McElreath's lectures for the whole book are available here: https://github.com/rmcelreath/stat_rethinking_2022\n",
    "\n",
    "An excellent port to Python/PyMC Code is available here: https://github.com/dustinstansbury/statistical-rethinking-2023\n",
    "\n",
    "You are encouraged to work through both of these versions to re-enforce what we're doing in class."
   ]
  },
  {
   "cell_type": "code",
   "metadata": {
    "ExecuteTime": {
     "end_time": "2024-09-06T15:06:28.850773Z",
     "start_time": "2024-09-06T15:06:26.684787Z"
    }
   },
   "source": [
    "# Import python packages\n",
    "%matplotlib inline\n",
    "from matplotlib import pyplot as plt\n",
    "import pandas as pd\n",
    "import numpy as np\n",
    "import seaborn as sns\n",
    "import scipy as sp\n",
    "import random as rd\n",
    "import pymc as pm"
   ],
   "outputs": [
    {
     "name": "stderr",
     "output_type": "stream",
     "text": [
      "WARNING (pytensor.tensor.blas): Using NumPy C-API based implementation for BLAS functions.\n"
     ]
    }
   ],
   "execution_count": 1
  },
  {
   "cell_type": "markdown",
   "metadata": {},
   "source": [
    "# Grid approximation"
   ]
  },
  {
   "cell_type": "markdown",
   "metadata": {},
   "source": [
    "The best way to understand how Bayes theorem works is to work through it by hand - the grid approximation is a good way to do this because you can see visually how parameters and data interact through the likelhood. It also gives a sense of how priors become posteiors.\n",
    "\n",
    "We'll use the globe tossing example because it conveys so well how probability can be built up and used from scratch."
   ]
  },
  {
   "cell_type": "code",
   "metadata": {
    "ExecuteTime": {
     "end_time": "2024-09-06T15:06:28.856358Z",
     "start_time": "2024-09-06T15:06:28.851943Z"
    }
   },
   "source": [
    "# Define grid\n",
    "p_grid = np.linspace(0,1,20)\n",
    "p_grid"
   ],
   "outputs": [
    {
     "data": {
      "text/plain": [
       "array([0.        , 0.05263158, 0.10526316, 0.15789474, 0.21052632,\n",
       "       0.26315789, 0.31578947, 0.36842105, 0.42105263, 0.47368421,\n",
       "       0.52631579, 0.57894737, 0.63157895, 0.68421053, 0.73684211,\n",
       "       0.78947368, 0.84210526, 0.89473684, 0.94736842, 1.        ])"
      ]
     },
     "execution_count": 2,
     "metadata": {},
     "output_type": "execute_result"
    }
   ],
   "execution_count": 2
  },
  {
   "cell_type": "code",
   "metadata": {
    "ExecuteTime": {
     "end_time": "2024-09-06T15:06:28.860316Z",
     "start_time": "2024-09-06T15:06:28.857322Z"
    }
   },
   "source": [
    "# Define prior\n",
    "prior = np.ones(20)\n",
    "prior"
   ],
   "outputs": [
    {
     "data": {
      "text/plain": [
       "array([1., 1., 1., 1., 1., 1., 1., 1., 1., 1., 1., 1., 1., 1., 1., 1., 1.,\n",
       "       1., 1., 1.])"
      ]
     },
     "execution_count": 3,
     "metadata": {},
     "output_type": "execute_result"
    }
   ],
   "execution_count": 3
  },
  {
   "cell_type": "code",
   "metadata": {
    "ExecuteTime": {
     "end_time": "2024-09-06T15:06:28.864632Z",
     "start_time": "2024-09-06T15:06:28.860915Z"
    }
   },
   "source": [
    "# Normalize\n",
    "prior = prior/sum(prior)\n",
    "prior1 = prior\n",
    "prior"
   ],
   "outputs": [
    {
     "data": {
      "text/plain": [
       "array([0.05, 0.05, 0.05, 0.05, 0.05, 0.05, 0.05, 0.05, 0.05, 0.05, 0.05,\n",
       "       0.05, 0.05, 0.05, 0.05, 0.05, 0.05, 0.05, 0.05, 0.05])"
      ]
     },
     "execution_count": 4,
     "metadata": {},
     "output_type": "execute_result"
    }
   ],
   "execution_count": 4
  },
  {
   "cell_type": "markdown",
   "metadata": {},
   "source": [
    "Next we need to define the likelihood which, because it is descrete, is given by the probability mass function (PMF)\n",
    "\n",
    "$$\n",
    "\\binom{n}{k}p^{x}(1-p)^{n-x}\n",
    "$$\n",
    "\n",
    "where\n",
    "\n",
    "$$\n",
    "\\binom{n}{k} = \\frac{n!}{k!(n - k)!}\n",
    "$$\n",
    "\n",
    "which in code is"
   ]
  },
  {
   "cell_type": "code",
   "metadata": {
    "ExecuteTime": {
     "end_time": "2024-09-06T15:06:28.868175Z",
     "start_time": "2024-09-06T15:06:28.865881Z"
    }
   },
   "source": [
    "from math import factorial as f\n",
    "\n",
    "# Binomial distribution\n",
    "def dbinom(x,n,p):\n",
    "    return f(n)/(f(x)*f(n-x))*p**(x)*(1-p)**(n-x)"
   ],
   "outputs": [],
   "execution_count": 5
  },
  {
   "cell_type": "markdown",
   "metadata": {},
   "source": [
    "# Data loop"
   ]
  },
  {
   "cell_type": "code",
   "metadata": {
    "ExecuteTime": {
     "end_time": "2024-09-06T15:06:29.188461Z",
     "start_time": "2024-09-06T15:06:28.868835Z"
    }
   },
   "source": [
    "# Plot prior over range of p_grid\n",
    "plt.plot(p_grid, prior)\n",
    "plt.xlabel('Proportion water'),plt.ylabel('Plausability');"
   ],
   "outputs": [
    {
     "data": {
      "text/plain": [
       "<Figure size 640x480 with 1 Axes>"
      ],
      "image/png": "[encoded data removed]"
     },
     "metadata": {},
     "output_type": "display_data"
    }
   ],
   "execution_count": 6
  },
  {
   "cell_type": "code",
   "metadata": {
    "scrolled": true,
    "ExecuteTime": {
     "end_time": "2024-09-06T15:06:29.193325Z",
     "start_time": "2024-09-06T15:06:29.190495Z"
    }
   },
   "source": [
    "# New observations\n",
    "W = 0\n",
    "L = 1\n",
    "# Number of trials\n",
    "N = W+L\n",
    "\n",
    "# Calculate likelihood\n",
    "likelihood = dbinom(W,N,p_grid)\n",
    "likelihood"
   ],
   "outputs": [
    {
     "data": {
      "text/plain": [
       "array([1.        , 0.94736842, 0.89473684, 0.84210526, 0.78947368,\n",
       "       0.73684211, 0.68421053, 0.63157895, 0.57894737, 0.52631579,\n",
       "       0.47368421, 0.42105263, 0.36842105, 0.31578947, 0.26315789,\n",
       "       0.21052632, 0.15789474, 0.10526316, 0.05263158, 0.        ])"
      ]
     },
     "execution_count": 7,
     "metadata": {},
     "output_type": "execute_result"
    }
   ],
   "execution_count": 7
  },
  {
   "cell_type": "code",
   "metadata": {
    "scrolled": true,
    "ExecuteTime": {
     "end_time": "2024-09-06T15:06:29.321189Z",
     "start_time": "2024-09-06T15:06:29.193981Z"
    }
   },
   "source": [
    "# Plot likelihood over range of p_grid\n",
    "plt.plot(p_grid, likelihood)\n",
    "plt.xlabel('Proportion water'),plt.ylabel('Likelihood');"
   ],
   "outputs": [
    {
     "data": {
      "text/plain": [
       "<Figure size 640x480 with 1 Axes>"
      ],
      "image/png": "[encoded data removed]"
     },
     "metadata": {},
     "output_type": "display_data"
    }
   ],
   "execution_count": 8
  },
  {
   "cell_type": "code",
   "metadata": {
    "ExecuteTime": {
     "end_time": "2024-09-06T15:06:29.329178Z",
     "start_time": "2024-09-06T15:06:29.324524Z"
    }
   },
   "source": [
    "sum(likelihood)"
   ],
   "outputs": [
    {
     "data": {
      "text/plain": [
       "10.000000000000002"
      ]
     },
     "execution_count": 9,
     "metadata": {},
     "output_type": "execute_result"
    }
   ],
   "execution_count": 9
  },
  {
   "cell_type": "code",
   "metadata": {
    "ExecuteTime": {
     "end_time": "2024-09-06T15:06:29.337121Z",
     "start_time": "2024-09-06T15:06:29.332476Z"
    }
   },
   "source": [
    "likelihood*prior"
   ],
   "outputs": [
    {
     "data": {
      "text/plain": [
       "array([0.05      , 0.04736842, 0.04473684, 0.04210526, 0.03947368,\n",
       "       0.03684211, 0.03421053, 0.03157895, 0.02894737, 0.02631579,\n",
       "       0.02368421, 0.02105263, 0.01842105, 0.01578947, 0.01315789,\n",
       "       0.01052632, 0.00789474, 0.00526316, 0.00263158, 0.        ])"
      ]
     },
     "execution_count": 10,
     "metadata": {},
     "output_type": "execute_result"
    }
   ],
   "execution_count": 10
  },
  {
   "cell_type": "code",
   "metadata": {
    "ExecuteTime": {
     "end_time": "2024-09-06T15:06:29.343572Z",
     "start_time": "2024-09-06T15:06:29.338875Z"
    }
   },
   "source": [
    "# Normalizing constant\n",
    "sum(likelihood*prior)"
   ],
   "outputs": [
    {
     "data": {
      "text/plain": [
       "0.5"
      ]
     },
     "execution_count": 11,
     "metadata": {},
     "output_type": "execute_result"
    }
   ],
   "execution_count": 11
  },
  {
   "cell_type": "code",
   "metadata": {
    "ExecuteTime": {
     "end_time": "2024-09-06T15:06:29.354212Z",
     "start_time": "2024-09-06T15:06:29.344232Z"
    }
   },
   "source": [
    "# Bayes theorem\n",
    "posterior = (likelihood*prior)/sum(likelihood*prior)\n",
    "posterior"
   ],
   "outputs": [
    {
     "data": {
      "text/plain": [
       "array([0.1       , 0.09473684, 0.08947368, 0.08421053, 0.07894737,\n",
       "       0.07368421, 0.06842105, 0.06315789, 0.05789474, 0.05263158,\n",
       "       0.04736842, 0.04210526, 0.03684211, 0.03157895, 0.02631579,\n",
       "       0.02105263, 0.01578947, 0.01052632, 0.00526316, 0.        ])"
      ]
     },
     "execution_count": 12,
     "metadata": {},
     "output_type": "execute_result"
    }
   ],
   "execution_count": 12
  },
  {
   "cell_type": "code",
   "metadata": {
    "ExecuteTime": {
     "end_time": "2024-09-06T15:06:29.497692Z",
     "start_time": "2024-09-06T15:06:29.356660Z"
    }
   },
   "source": [
    "# Plot posterior over range of p_grid\n",
    "plt.plot(p_grid, posterior)\n",
    "plt.plot(p_grid, prior,linestyle=\":\")\n",
    "plt.xlabel('Proportion water'),plt.ylabel('Posterior');"
   ],
   "outputs": [
    {
     "data": {
      "text/plain": [
       "<Figure size 640x480 with 1 Axes>"
      ],
      "image/png": "[encoded data removed]"
     },
     "metadata": {},
     "output_type": "display_data"
    }
   ],
   "execution_count": 13
  },
  {
   "cell_type": "code",
   "metadata": {
    "ExecuteTime": {
     "end_time": "2024-09-06T15:06:29.505102Z",
     "start_time": "2024-09-06T15:06:29.499908Z"
    }
   },
   "source": [
    "# Update new prior\n",
    "prior = posterior"
   ],
   "outputs": [],
   "execution_count": 14
  },
  {
   "cell_type": "code",
   "metadata": {
    "ExecuteTime": {
     "end_time": "2024-09-06T15:06:29.509289Z",
     "start_time": "2024-09-06T15:06:29.507470Z"
    }
   },
   "source": [],
   "outputs": [],
   "execution_count": 14
  },
  {
   "cell_type": "code",
   "metadata": {
    "ExecuteTime": {
     "end_time": "2024-09-06T15:06:29.512586Z",
     "start_time": "2024-09-06T15:06:29.510563Z"
    }
   },
   "source": [],
   "outputs": [],
   "execution_count": 14
  },
  {
   "cell_type": "code",
   "metadata": {
    "ExecuteTime": {
     "end_time": "2024-09-06T15:06:29.520793Z",
     "start_time": "2024-09-06T15:06:29.514084Z"
    }
   },
   "source": [],
   "outputs": [],
   "execution_count": 14
  },
  {
   "cell_type": "code",
   "metadata": {
    "ExecuteTime": {
     "end_time": "2024-09-06T15:06:29.525461Z",
     "start_time": "2024-09-06T15:06:29.521784Z"
    }
   },
   "source": [],
   "outputs": [],
   "execution_count": 14
  },
  {
   "cell_type": "code",
   "metadata": {
    "ExecuteTime": {
     "end_time": "2024-09-06T15:06:29.529510Z",
     "start_time": "2024-09-06T15:06:29.527757Z"
    }
   },
   "source": [],
   "outputs": [],
   "execution_count": 14
  },
  {
   "cell_type": "code",
   "metadata": {
    "ExecuteTime": {
     "end_time": "2024-09-06T15:06:29.536944Z",
     "start_time": "2024-09-06T15:06:29.531836Z"
    }
   },
   "source": [],
   "outputs": [],
   "execution_count": 14
  },
  {
   "cell_type": "code",
   "metadata": {
    "ExecuteTime": {
     "end_time": "2024-09-06T15:06:29.541Z",
     "start_time": "2024-09-06T15:06:29.538484Z"
    }
   },
   "source": [],
   "outputs": [],
   "execution_count": 14
  },
  {
   "cell_type": "markdown",
   "metadata": {},
   "source": [
    "Or, we can do it all at once, with all the data"
   ]
  },
  {
   "cell_type": "code",
   "metadata": {
    "ExecuteTime": {
     "end_time": "2024-09-06T15:06:29.550366Z",
     "start_time": "2024-09-06T15:06:29.546719Z"
    }
   },
   "source": [
    "# New observations\n",
    "W = \n",
    "L = \n",
    "# Number of trials\n",
    "N = W+L\n",
    "\n",
    "# Calculate likelihood\n",
    "likelihood = dbinom(W,N,p_grid)\n",
    "likelihood\n",
    "# Bayes theorem\n",
    "posterior = (likelihood*prior1)/sum(likelihood*prior1)\n",
    "posterior"
   ],
   "outputs": [
    {
     "ename": "SyntaxError",
     "evalue": "invalid syntax (3222553597.py, line 2)",
     "output_type": "error",
     "traceback": [
      "\u001B[0;36m  Cell \u001B[0;32mIn[15], line 2\u001B[0;36m\u001B[0m\n\u001B[0;31m    W =\u001B[0m\n\u001B[0m        ^\u001B[0m\n\u001B[0;31mSyntaxError\u001B[0m\u001B[0;31m:\u001B[0m invalid syntax\n"
     ]
    }
   ],
   "execution_count": 15
  },
  {
   "cell_type": "code",
   "metadata": {},
   "source": [
    "# Plot posterior over range of p_grid\n",
    "plt.plot(p_grid, posterior)\n",
    "plt.plot(p_grid, prior1,linestyle=\":\")\n",
    "plt.xlabel('Proportion water'),plt.ylabel('Posterior');"
   ],
   "outputs": [],
   "execution_count": null
  },
  {
   "cell_type": "markdown",
   "metadata": {},
   "source": [
    "With this code we have built a Bayesian model to estimate the proportion of water on the earth's surface by recording the number of times our right hand lands on water versus land, given a default 'ignorant' prior. However our heterogenious educations give us some sense better than ignorance about what proportion of the earth is water. We can encode this information in a new prior and see what the data show. There are many ways to do this, but one way is to weight each value of p_grid by our sense of how likely they are."
   ]
  },
  {
   "cell_type": "code",
   "metadata": {},
   "source": [
    "p_grid"
   ],
   "outputs": [],
   "execution_count": null
  },
  {
   "cell_type": "code",
   "metadata": {},
   "source": [
    "# Subjective prior\n",
    "my_prior = np.array([0,0,0,0,0,0,0,0,0.0,0.,0.,0.,0.,0.,0.,0.0,0.0,0.0,0,0])"
   ],
   "outputs": [],
   "execution_count": null
  },
  {
   "cell_type": "code",
   "metadata": {},
   "source": [
    "sum(my_prior)"
   ],
   "outputs": [],
   "execution_count": null
  },
  {
   "cell_type": "code",
   "metadata": {},
   "source": [
    "# Standardize\n",
    "my_prior = my_prior/sum(my_prior)"
   ],
   "outputs": [],
   "execution_count": null
  },
  {
   "cell_type": "code",
   "metadata": {},
   "source": [
    "sum(my_prior)"
   ],
   "outputs": [],
   "execution_count": null
  },
  {
   "cell_type": "code",
   "metadata": {},
   "source": [
    "# Plot my prior over range of p_grid\n",
    "plt.plot(p_grid,my_prior)\n",
    "plt.xlabel('Proportion water'),plt.ylabel('Prior');"
   ],
   "outputs": [],
   "execution_count": null
  },
  {
   "cell_type": "code",
   "metadata": {},
   "source": [
    "# Bayes theorem\n",
    "posterior2 = (likelihood*my_prior)/sum(likelihood*my_prior)\n",
    "posterior2"
   ],
   "outputs": [],
   "execution_count": null
  },
  {
   "cell_type": "code",
   "metadata": {},
   "source": [
    "# Plot posterior2 over range of p_grid\n",
    "plt.plot(p_grid, np.ones(20)*0.05, label='Flat prior', c='dodgerblue', linestyle=\":\")\n",
    "plt.plot(p_grid, my_prior, label='My prior', c='red', linestyle=\":\")\n",
    "plt.plot(p_grid, posterior, label='Flat posterior', c='dodgerblue')\n",
    "plt.plot(p_grid, posterior2, label='My posterior', c='red')\n",
    "plt.legend()\n",
    "plt.xlabel('Proportion water'),plt.ylabel('Posterior');"
   ],
   "outputs": [],
   "execution_count": null
  },
  {
   "cell_type": "markdown",
   "metadata": {},
   "source": [
    "# Quadratic approximation"
   ]
  },
  {
   "cell_type": "markdown",
   "metadata": {},
   "source": [
    "Grid approximations are helpful for learning how Bayes theorem works but they do not scale well, exponentially in fact relative to the number of parameters in the model. For most models we'll use Markov Chain Monte Carlo (MCMC) methods, but before that the quadratic approximation (QA) is a useful method to learn as well as it is really fast and forms the basis of an important MCMC alternative, the [Laplace approximation](https://bookdown.org/rdpeng/advstatcomp/laplace-approximation.html), which is used in [INLA](http://www.r-inla.org/) (with a gentle intro here: https://www.precision-analytics.ca/blog/a-gentle-inla-tutorial/).\n",
    "\n",
    "McElreath has written his own quadratic approximation algorithm `quap()` for finding the normal peak and standard deviation and you can see that on pg. 42 of the book. In Python we can use the `find_MAP()` function in PyMC to do the same thing (`quap` uses `MAP` under the hood). MAP stands for maximum *a posteriori*, and reflects the fact that the algorithm estimates the mode of a posterior, rather than just the likelihood alone. Is is basically a fast optimization algorhithm."
   ]
  },
  {
   "cell_type": "code",
   "metadata": {},
   "source": [
    "# Quadratic approximation using MAP in PyMC\n",
    "with pm.Model() as globe_qa:\n",
    "    p = pm.Uniform('p', 0, 1)\n",
    "    w = pm.Binomial('w', n=N, p=p, observed=W)\n",
    "    mean_q = pm.find_MAP()\n",
    "    std_q = ((1/pm.find_hessian(mean_q, vars=[p]))**0.5)[0]"
   ],
   "outputs": [],
   "execution_count": null
  },
  {
   "cell_type": "code",
   "metadata": {},
   "source": [
    "# Mean of normal approximation\n",
    "mean_q['p']"
   ],
   "outputs": [],
   "execution_count": null
  },
  {
   "cell_type": "code",
   "metadata": {},
   "source": [
    "# Standard deviation of normal approximation\n",
    "std_q[0]"
   ],
   "outputs": [],
   "execution_count": null
  },
  {
   "cell_type": "markdown",
   "metadata": {},
   "source": [
    "One oddity in the code above is the `pm.find_hessian` statement, if you've not seen a Hessian before, it is simply (!) a matrix of second-order partial derivatives that can be used to calculate variance/covariance. "
   ]
  },
  {
   "cell_type": "code",
   "metadata": {},
   "source": [
    "# analytical calculation\n",
    "y1 = dbinom(W,N,p_grid)\n",
    "plt.plot(p_grid, y1/sum(y1), label='True posterior')\n",
    "\n",
    "# quadratic approximation\n",
    "y2 = sp.stats.norm.pdf(p_grid, mean_q['p'], std_q)\n",
    "plt.plot(p_grid, y2/sum(y2), label='Quadratic approximation')\n",
    "plt.legend()\n",
    "\n",
    "plt.title('n = 9', fontsize=14)\n",
    "plt.xlabel('Proportion water', fontsize=14)\n",
    "plt.ylabel('Density', fontsize=14);"
   ],
   "outputs": [],
   "execution_count": null
  }
 ],
 "metadata": {
  "kernelspec": {
   "display_name": "Python 3 (ipykernel)",
   "language": "python",
   "name": "python3"
  },
  "language_info": {
   "codemirror_mode": {
    "name": "ipython",
    "version": 3
   },
   "file_extension": ".py",
   "mimetype": "text/x-python",
   "name": "python",
   "nbconvert_exporter": "python",
   "pygments_lexer": "ipython3",
   "version": "3.11.6"
  }
 },
 "nbformat": 4,
 "nbformat_minor": 4
}
